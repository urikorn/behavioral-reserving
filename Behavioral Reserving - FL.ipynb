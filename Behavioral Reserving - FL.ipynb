{
 "cells": [
  {
   "cell_type": "code",
   "execution_count": 1,
   "id": "agricultural-camel",
   "metadata": {},
   "outputs": [],
   "source": [
    "\n",
    "%load_ext autoreload\n",
    "%autoreload 2\n",
    "\n",
    "import sys\n",
    "\n",
    "sys.path.insert(0, \".\")\n",
    "\n",
    "import math\n",
    "import numpy as np\n",
    "import pandas as pd\n",
    "import arviz as az\n",
    "import matplotlib.pyplot as plt\n",
    "from scipy.stats import lognorm\n",
    "from scipy.stats import norm\n",
    "from scipy.special import logsumexp\n",
    "from scipy.optimize import minimize\n",
    "import datetime\n",
    "\n",
    "from scipy.stats import gamma\n",
    "from sklearn import linear_model\n",
    "from patsy import dmatrix, cr\n",
    "import statsmodels.api as sm\n",
    "\n",
    "%matplotlib inline\n",
    "import matplotlib.pyplot as plt"
   ]
  },
  {
   "cell_type": "code",
   "execution_count": 2,
   "id": "working-crisis",
   "metadata": {},
   "outputs": [],
   "source": [
    "import random\n",
    "random.seed(2222)"
   ]
  },
  {
   "cell_type": "markdown",
   "id": "younger-reporter",
   "metadata": {},
   "source": [
    "## Load and prepare data"
   ]
  },
  {
   "cell_type": "code",
   "execution_count": 3,
   "id": "liquid-samba",
   "metadata": {},
   "outputs": [],
   "source": [
    "lob = \"OC\""
   ]
  },
  {
   "cell_type": "code",
   "execution_count": 4,
   "id": "heavy-ministry",
   "metadata": {},
   "outputs": [],
   "source": [
    "min_years = 5\n",
    "ep_max = 2e9\n",
    "ep_min = 25e6\n",
    "\n",
    "num_size_groups = 3\n",
    "year_groups = [range(1991, 1996), range(1996, 2001), range(2001, 2006), range(2006, 2011)]\n",
    "\n",
    "# exclude companies with very large errors (compared to sqrt avg premium volume)\n",
    "tags_excl = {\n",
    "    \"WC\": [\"SPSF.36196\", \"SPSF.00691\", \"SPSF.00070\"],\n",
    "    \"OO\": [\"SPSF.00078\", \"SPSF.42439\", \"SPSF.00070\", \"SPSF.00507\", \"SPSF.02127\", \"SPSF.11371\"],\n",
    "    \"CA\": [\"SPSF.24139\"],\n",
    "    \"OC\": [\"SPSF.15792\", \"SPSF.36706\", \"SPSF.11268\"]\n",
    "}\n",
    "\n",
    "# WC companies\n",
    "# (these companies do mostly WC, but have identical rows showing up in other lobs)\n",
    "wc_cpns = [\"SPSF.00011\", \"SPSF.00031\", \"SPSF.00053\", \"SPSF.10191\", \"SPSF.10320\", \"SPSF.10385\", \"SPSF.10699\", \"SPSF.10781\", \"SPSF.10998\", \"SPSF.11030\", \"SPSF.11039\", \"SPSF.11149\", \"SPSF.11347\", \"SPSF.14216\", \"SPSF.22350\", \"SPSF.22945\", \"SPSF.24017\", \"SPSF.27626\", \"SPSF.27677\", \"SPSF.36129\", \"SPSF.41190\", \"SPSF.37869\"]"
   ]
  },
  {
   "cell_type": "code",
   "execution_count": 5,
   "id": "refined-toilet",
   "metadata": {},
   "outputs": [
    {
     "data": {
      "text/plain": [
       "array(['AD', 'AL', 'CA', 'CM', 'FM', 'FS', 'HO', 'IN', 'MC', 'MO', 'OC',\n",
       "       'OI', 'OO', 'PC', 'PO', 'PP', 'RF', 'RL', 'RP', 'SL', 'WC'],\n",
       "      dtype=object)"
      ]
     },
     "execution_count": 5,
     "metadata": {},
     "output_type": "execute_result"
    }
   ],
   "source": [
    "tris_df = pd.read_csv(\"/users/urikorn/Documents/snl/snl_all.csv\")\n",
    "\n",
    "tris_df[\"lob\"] = tris_df.program_tag.apply(lambda x: x[-2:])\n",
    "tris_df[\"tag\"] = tris_df.program_tag.apply(lambda x: x[:-2])\n",
    "tris_df[\"year\"] = tris_df.period_start.apply(lambda x: int(x[:4]))\n",
    "tris_df[\"eval_year\"] = tris_df.evaluation_date.apply(lambda x: int(x[:4]))\n",
    "tris_df[\"paid_lr\"] = tris_df.paid_loss / tris_df.earned_premium\n",
    "tris_df[\"reported_lr\"] = tris_df.reported_loss / tris_df.earned_premium\n",
    "tris_df[\"incurred_lr\"] = tris_df.incurred_loss / tris_df.earned_premium\n",
    "\n",
    "tris_df = tris_df[tris_df.year.apply(lambda x: x in range(1990, 2011))]\n",
    "tris_df = tris_df[tris_df.tag.apply(lambda x: x not in tags_excl[lob])]\n",
    "\n",
    "tris_df = tris_df[((tris_df.tag.isin(wc_cpns)) & (tris_df.lob == \"WC\")) | (~tris_df.tag.isin(wc_cpns))]\n",
    "\n",
    "max_age = tris_df.groupby([\"tag\", \"lob\", \"year\"])[\"dev_lag\"].max().reset_index()\n",
    "max_age = max_age.rename(columns={\"dev_lag\": \"max_dev_lag\"})\n",
    "tris_df = pd.merge(tris_df, max_age, how=\"left\", on=[\"tag\", \"lob\", \"year\"])\n",
    "\n",
    "init_ult = tris_df[tris_df.dev_lag == 0].groupby([\"tag\", \"lob\", \"year\"])[\"incurred_lr\"].mean().reset_index()\n",
    "init_ult = init_ult.rename(columns={\"incurred_lr\": \"init_lr\"})\n",
    "tris_df = pd.merge(tris_df, init_ult, how=\"left\", on=[\"tag\", \"lob\", \"year\"])\n",
    "\n",
    "num_yrs = tris_df[(tris_df.dev_lag == 0)].groupby([\"tag\", \"lob\"])[\"year\"].count().reset_index()\n",
    "num_yrs = num_yrs.rename(columns={\"year\": \"num_years\"})\n",
    "tris_df = pd.merge(tris_df, num_yrs, how=\"left\", on=[\"tag\", \"lob\"])\n",
    "tris_df = tris_df[tris_df.num_years >= min_years]\n",
    "\n",
    "tris_df.sort_values([\"lob\", \"tag\", \"year\", \"dev_lag\"], inplace=True)\n",
    "\n",
    "np.unique(tris_df.lob)"
   ]
  },
  {
   "cell_type": "code",
   "execution_count": 6,
   "id": "nervous-union",
   "metadata": {},
   "outputs": [],
   "source": [
    "tris_lob_df = tris_df[tris_df.lob == lob].copy()"
   ]
  },
  {
   "cell_type": "code",
   "execution_count": 7,
   "id": "clinical-mistress",
   "metadata": {},
   "outputs": [],
   "source": [
    "lob_prem = tris_lob_df[tris_lob_df.dev_lag == 0].groupby([\"tag\", \"lob\"])[\"earned_premium\"].mean().reset_index()\n",
    "lob_prem = lob_prem.rename(columns={\"earned_premium\": \"lob_prem\"})\n",
    "lob_prem = lob_prem[(lob_prem.lob_prem >= ep_min) & (lob_prem.lob_prem <= ep_max)]\n",
    "size_cutoffs = np.quantile(lob_prem.lob_prem, np.linspace(0, 1, num_size_groups + 1))\n",
    "size_cutoffs[0] = size_cutoffs[0] - 1\n",
    "\n",
    "lob_prem[\"size_group\"] = lob_prem.lob_prem.apply(lambda x: np.where(x <= size_cutoffs)[0][0] - 1)\n",
    "tris_lob_df = pd.merge(tris_lob_df, lob_prem, how=\"left\", on=[\"tag\", \"lob\"])\n",
    "tris_df = pd.merge(tris_df, lob_prem, how=\"left\", on=[\"tag\", \"lob\"])\n",
    "tris_lob_df = tris_lob_df[(tris_lob_df.lob_prem >= ep_min) & (tris_lob_df.lob_prem <= ep_max)]"
   ]
  },
  {
   "cell_type": "code",
   "execution_count": 8,
   "id": "protective-harvest",
   "metadata": {},
   "outputs": [],
   "source": [
    "tags = np.unique(tris_lob_df.tag)"
   ]
  },
  {
   "cell_type": "code",
   "execution_count": 9,
   "id": "diverse-harrison",
   "metadata": {},
   "outputs": [
    {
     "data": {
      "text/plain": [
       "(3, 21)"
      ]
     },
     "execution_count": 9,
     "metadata": {},
     "output_type": "execute_result"
    }
   ],
   "source": [
    "mutuals_all = [\"SPSF.00011\", \"SPSF.00028\", \"SPSF.00031\", \"SPSF.00037\", \"SPSF.00051\", \"SPSF.00052\", \"SPSF.00078\", \"SPSF.00221\", \"SPSF.00280\", \"SPSF.00301\", \"SPSF.00317\", \"SPSF.00353\", \"SPSF.00361\", \"SPSF.00415\", \"SPSF.00428\", \"SPSF.00438\", \"SPSF.00447\", \"SPSF.00451\", \"SPSF.00457\", \"SPSF.00468\", \"SPSF.00473\", \"SPSF.00507\", \"SPSF.00634\", \"SPSF.00655\", \"SPSF.00662\", \"SPSF.00726\", \"SPSF.00742\", \"SPSF.00764\", \"SPSF.01090\", \"SPSF.01112\", \"SPSF.01236\", \"SPSF.01244\", \"SPSF.01406\", \"SPSF.01694\", \"SPSF.01767\", \"SPSF.01848\", \"SPSF.01953\", \"SPSF.02011\", \"SPSF.02038\", \"SPSF.02054\", \"SPSF.02070\", \"SPSF.02143\", \"SPSF.02224\", \"SPSF.02348\", \"SPSF.02500\", \"SPSF.02917\", \"SPSF.03034\", \"SPSF.03778\", \"SPSF.04130\", \"SPSF.04731\", \"SPSF.05185\", \"SPSF.05339\", \"SPSF.05428\", \"SPSF.05690\", \"SPSF.06408\", \"SPSF.06459\", \"SPSF.06947\", \"SPSF.07625\", \"SPSF.07757\", \"SPSF.07870\", \"SPSF.08001\", \"SPSF.08079\", \"SPSF.08427\", \"SPSF.10191\", \"SPSF.10320\", \"SPSF.10323\", \"SPSF.10385\", \"SPSF.10476\", \"SPSF.10653\", \"SPSF.10719\", \"SPSF.10720\", \"SPSF.10751\", \"SPSF.10831\", \"SPSF.10913\", \"SPSF.10941\", \"SPSF.10949\", \"SPSF.10989\", \"SPSF.10998\", \"SPSF.11036\", \"SPSF.11091\", \"SPSF.11101\", \"SPSF.11149\", \"SPSF.11186\", \"SPSF.11268\", \"SPSF.11347\", \"SPSF.11617\", \"SPSF.11753\", \"SPSF.11878\", \"SPSF.11964\", \"SPSF.11972\", \"SPSF.11973\", \"SPSF.12362\", \"SPSF.12372\", \"SPSF.12468\", \"SPSF.12839\", \"SPSF.12988\", \"SPSF.13098\", \"SPSF.13374\", \"SPSF.13420\", \"SPSF.13471\", \"SPSF.13501\", \"SPSF.13528\", \"SPSF.13684\", \"SPSF.13692\", \"SPSF.13714\", \"SPSF.13725\", \"SPSF.13889\", \"SPSF.13919\", \"SPSF.13935\", \"SPSF.13943\", \"SPSF.13978\", \"SPSF.14001\", \"SPSF.14036\", \"SPSF.14044\", \"SPSF.14090\", \"SPSF.14141\", \"SPSF.14176\", \"SPSF.14184\", \"SPSF.14362\", \"SPSF.14400\", \"SPSF.14427\", \"SPSF.14443\", \"SPSF.14451\", \"SPSF.14494\", \"SPSF.14508\", \"SPSF.14656\", \"SPSF.14753\", \"SPSF.14761\", \"SPSF.14885\", \"SPSF.14915\", \"SPSF.14974\", \"SPSF.15024\", \"SPSF.15040\", \"SPSF.15067\", \"SPSF.15091\", \"SPSF.15113\", \"SPSF.15261\", \"SPSF.15296\", \"SPSF.15350\", \"SPSF.15377\", \"SPSF.15407\", \"SPSF.15881\", \"SPSF.16250\", \"SPSF.16273\", \"SPSF.16330\", \"SPSF.16489\", \"SPSF.16683\", \"SPSF.16748\", \"SPSF.16799\", \"SPSF.16888\", \"SPSF.16918\", \"SPSF.16985\", \"SPSF.17043\", \"SPSF.17299\", \"SPSF.17329\", \"SPSF.17450\", \"SPSF.17493\", \"SPSF.18309\", \"SPSF.18767\", \"SPSF.20672\", \"SPSF.21270\", \"SPSF.21415\", \"SPSF.21482\", \"SPSF.21733\", \"SPSF.22624\", \"SPSF.22945\", \"SPSF.22993\", \"SPSF.23388\", \"SPSF.23574\", \"SPSF.24017\", \"SPSF.24341\", \"SPSF.24520\", \"SPSF.26034\", \"SPSF.26257\", \"SPSF.26468\", \"SPSF.26818\", \"SPSF.27022\", \"SPSF.27065\", \"SPSF.27480\", \"SPSF.27529\", \"SPSF.27766\", \"SPSF.28681\", \"SPSF.29513\", \"SPSF.29610\", \"SPSF.29831\", \"SPSF.30376\", \"SPSF.30384\", \"SPSF.30449\", \"SPSF.30651\", \"SPSF.31186\", \"SPSF.31780\", \"SPSF.32522\", \"SPSF.32832\", \"SPSF.33049\", \"SPSF.33200\", \"SPSF.33677\", \"SPSF.34150\", \"SPSF.34606\", \"SPSF.34703\", \"SPSF.36188\", \"SPSF.36277\", \"SPSF.36340\", \"SPSF.36706\", \"SPSF.40070\", \"SPSF.40940\", \"SPSF.43320\", \"SPSF.43850\", \"SPSF.44377\", \"SPSF.6947A\", \"SPSF.6947B\"]\n",
    "non_mutuals = [t for t in tags if t not in mutuals_all]\n",
    "mutuals = [t for t in tags if t in mutuals_all]\n",
    "tris_lob_df[\"mutual\"] = tris_lob_df.tag.isin(mutuals)\n",
    "tris_lob_df[\"mutual\"].value_counts()\n",
    "(len(mutuals), len(non_mutuals))"
   ]
  },
  {
   "cell_type": "code",
   "execution_count": 10,
   "id": "gross-advocate",
   "metadata": {},
   "outputs": [],
   "source": [
    "cpn_prem = tris_df[tris_df.dev_lag == 0].groupby([\"tag\", \"lob\"])[\"earned_premium\"].mean().reset_index()\n",
    "cpn_prem = cpn_prem.groupby([\"tag\"]).sum().reset_index()\n",
    "cpn_prem = cpn_prem.rename(columns={\"earned_premium\": \"cpn_prem\"})\n",
    "cpn_prem = cpn_prem[cpn_prem.tag.apply(lambda x: x in tags)]\n",
    "size_cutoffs = np.quantile(cpn_prem.cpn_prem, np.linspace(0, 1, num_size_groups + 1))\n",
    "size_cutoffs[0] = size_cutoffs[0] - 1\n",
    "\n",
    "cpn_prem[\"cpn_size_group\"] = cpn_prem.cpn_prem.apply(lambda x: np.where(x <= size_cutoffs)[0][0] - 1)\n",
    "tris_df = pd.merge(tris_df, cpn_prem, how=\"left\", on=[\"tag\"])\n",
    "tris_lob_df = pd.merge(tris_lob_df, cpn_prem, how=\"left\", on=[\"tag\"])\n",
    "\n",
    "lob_prem = pd.merge(lob_prem, cpn_prem, how=\"left\", on=\"tag\")\n",
    "lob_prem[\"pct_lob\"] = lob_prem.lob_prem / lob_prem.cpn_prem\n",
    "pct_cutoffs = np.quantile(lob_prem.pct_lob, np.linspace(0, 1, num_size_groups + 1))\n",
    "pct_cutoffs[0] = pct_cutoffs[0] - 1\n",
    "lob_prem[\"pct_group\"] = lob_prem.pct_lob.apply(lambda x: np.where(x <= pct_cutoffs)[0][0] - 1)\n",
    "tris_lob_df = pd.merge(tris_lob_df, lob_prem[[\"tag\", \"pct_lob\", \"pct_group\"]])"
   ]
  },
  {
   "cell_type": "code",
   "execution_count": 11,
   "id": "medical-mission",
   "metadata": {},
   "outputs": [
    {
     "name": "stdout",
     "output_type": "stream",
     "text": [
      "24\n",
      "57.9388\n"
     ]
    }
   ],
   "source": [
    "print(len(set(tris_lob_df.tag)))\n",
    "print(np.sum(tris_lob_df.earned_premium[tris_lob_df.year == 2010]) / 1e9)"
   ]
  },
  {
   "cell_type": "code",
   "execution_count": 12,
   "id": "hungarian-holder",
   "metadata": {},
   "outputs": [
    {
     "name": "stdout",
     "output_type": "stream",
     "text": [
      "[   51.73928471   874.99379325  2351.80944048 31837.3233375 ]\n",
      "[-0.99734521  0.04334361  0.20379848  0.53578433]\n"
     ]
    },
    {
     "data": {
      "image/png": "[encoded data removed]",
      "text/plain": [
       "<Figure size 432x288 with 1 Axes>"
      ]
     },
     "metadata": {
      "needs_background": "light"
     },
     "output_type": "display_data"
    },
    {
     "data": {
      "image/png": "[encoded data removed]",
      "text/plain": [
       "<Figure size 432x288 with 1 Axes>"
      ]
     },
     "metadata": {
      "needs_background": "light"
     },
     "output_type": "display_data"
    }
   ],
   "source": [
    "print(size_cutoffs/1e6)\n",
    "print(pct_cutoffs)\n",
    "\n",
    "plt.hist(lob_prem.lob_prem)\n",
    "plt.show()\n",
    "\n",
    "plt.hist(lob_prem.pct_lob)\n",
    "plt.show()"
   ]
  },
  {
   "cell_type": "markdown",
   "id": "composite-beginning",
   "metadata": {},
   "source": [
    "Plot all of the LRs"
   ]
  },
  {
   "cell_type": "code",
   "execution_count": 13,
   "id": "fixed-accreditation",
   "metadata": {},
   "outputs": [],
   "source": [
    "if False:\n",
    "    for i, t in enumerate(tags):\n",
    "        f = (tris_lob_df.tag == t) & (tris_lob_df.dev_lag == tris_lob_df.max_dev_lag)\n",
    "        plt.plot(tris_lob_df.year[f], tris_lob_df.incurred_lr[f], label = i)\n",
    "    #plt.legend()\n",
    "    plt.show()"
   ]
  },
  {
   "cell_type": "markdown",
   "id": "contained-teaching",
   "metadata": {},
   "source": [
    "## Fit LDFs for each company to calculate chain ladder ultimates"
   ]
  },
  {
   "cell_type": "code",
   "execution_count": 14,
   "id": "formal-darkness",
   "metadata": {},
   "outputs": [],
   "source": [
    "# SMIPOC model for smoothing LDFs (Korn 2017)\n",
    "def smipoc(ata, loss, last_age = 25, inits = None, knot = 4):\n",
    "    # inits = [-5, -2, -2, -1, 0.1]\n",
    "    ata = np.array(ata)\n",
    "    ages = (np.array(range(last_age)) + 1) * 12\n",
    "    ages_fit = ages[:len(ata)]\n",
    "    \n",
    "    k = np.log(ages)[knot]\n",
    "    X = dmatrix(\"cr(np.log(ages), knots = k, constraints = 'center')\")\n",
    "    X_fit = X[:len(ages_fit),:]\n",
    "\n",
    "    X_cv = dmatrix(\"np.log(ages)\")\n",
    "    X_cv_fit = X_cv[:len(ages_fit),:]\n",
    "\n",
    "    y = [np.maximum(0.0001, i - 1) for i in ata]\n",
    "        \n",
    "    def nll(params):\n",
    "        cv_params = np.array([params[3], 5 * (np.exp(params[4]) / (1 + np.exp(params[4])))])\n",
    "        ata_fit = np.exp(np.sum(X_fit * params[:3], axis = 1)) + 1\n",
    "        cv_factor_fit = np.exp(np.sum(X_cv_fit * cv_params, axis = 1))\n",
    "        cv_fit = cv_factor_fit / np.sqrt(loss)\n",
    "        alpha = 1 / cv_fit ** 2\n",
    "        beta = alpha / (ata_fit - 1)\n",
    "        return - np.sum(gamma.logpdf(y, a = alpha, scale = 1 / beta))\n",
    "\n",
    "    if inits == None:\n",
    "        w = [(1 / i) ** 0.25 for i in ages_fit]\n",
    "        fit_init = linear_model.GammaRegressor(alpha = 0).fit(X_fit[:,1:], y, sample_weight = w)\n",
    "        inits = [fit_init.intercept_] + list(fit_init.coef_) + list([2, -1])\n",
    "\n",
    "    fit = minimize(nll, inits)\n",
    "\n",
    "    ata_fit = np.exp(np.sum(X * fit.x[:3], axis = 1)) + 1\n",
    "    return ata_fit, fit\n"
   ]
  },
  {
   "cell_type": "code",
   "execution_count": 15,
   "id": "theoretical-shoulder",
   "metadata": {},
   "outputs": [],
   "source": [
    "# Smooth out the LDFs for each company\n",
    "\n",
    "atas_emp = []\n",
    "atas = []\n",
    "atus = []\n",
    "atus_map = {}\n",
    "atas_paid_emp = []\n",
    "atas_paid = []\n",
    "atus_paid = []\n",
    "atus_paid_map = {}\n",
    "\n",
    "#ldfs = pd.DataFrame({\"lob\": [], \"program_tag\": [], \"ata\": [], \"atu\": [], \"ata_paid\": [], \"atu_paid\": []})\n",
    "\n",
    "for tag in tags:\n",
    "    t = tris_lob_df[tris_lob_df.tag == tag]\n",
    "\n",
    "    ata_emp = [\n",
    "        np.sum(t.reported_loss[(t.dev_lag == d + 12) & (t.max_dev_lag > d)]) / np.sum(t.reported_loss[(t.dev_lag == d) & (t.max_dev_lag > d)])\n",
    "        for d in np.unique(t.dev_lag)[:-1]\n",
    "    ]\n",
    "    atas_emp += [ata_emp]\n",
    "    loss = [\n",
    "        np.sum(t.reported_loss[(t.dev_lag == d) & (t.max_dev_lag > d)]) / 1e6\n",
    "        for d in np.unique(t.dev_lag)[:-1]\n",
    "    ]\n",
    "\n",
    "    ata, _ = smipoc(ata_emp, loss)\n",
    "    atas += [ata]\n",
    "\n",
    "    # ensure decreasing\n",
    "    for i in range(1, len((ata))):\n",
    "        if ata[i] >= ata[i - 1]:\n",
    "            ata[i] = ata[i - 1] ** 0.9\n",
    "\n",
    "    # ensure first point is reasonable\n",
    "    if ata[0] >= ata_emp[0] * 2:\n",
    "        ata[0] = ata_emp[0]\n",
    "\n",
    "    atu = np.flip(np.cumprod(np.flip(ata)))\n",
    "    atu = np.maximum(0.9, atu)\n",
    "\n",
    "    atus += [atu]\n",
    "    atus_map[tag] = atu\n",
    "\n",
    "    # paid development\n",
    "    ata_paid_emp = [\n",
    "        np.sum(t.paid_loss[(t.dev_lag == d + 12) & (t.max_dev_lag > d)]) / np.sum(t.paid_loss[(t.dev_lag == d) & (t.max_dev_lag > d)])\n",
    "        for d in np.unique(t.dev_lag)[:-1]\n",
    "    ]\n",
    "    atas_paid_emp += [ata_paid_emp]\n",
    "    loss_paid = [\n",
    "        np.sum(t.paid_loss[(t.dev_lag == d) & (t.max_dev_lag > d)]) / 1e6\n",
    "        for d in np.unique(t.dev_lag)[:-1]\n",
    "    ]\n",
    "\n",
    "    ata_paid, _ = smipoc(ata_paid_emp, loss_paid)\n",
    "\n",
    "    # ensure decreasing\n",
    "    for i in range(1, len((ata))):\n",
    "        if ata_paid[i] >= ata_paid[i - 1]:\n",
    "            ata_paid[i] = ata_paid[i - 1] ** 0.9\n",
    "\n",
    "    ata_paid = np.maximum(1.0, ata_paid)\n",
    "\n",
    "    atas_paid += [ata_paid]\n",
    "\n",
    "    atu_paid = np.flip(np.cumprod(np.flip(ata_paid)))\n",
    "\n",
    "    atus_paid += [atu_paid]\n",
    "    atus_paid_map[tag] = atu_paid\n",
    "    \n",
    "atus = np.array(atus) \n",
    "atus_paid = np.array(atus_paid) \n"
   ]
  },
  {
   "cell_type": "code",
   "execution_count": 16,
   "id": "fitting-shift",
   "metadata": {},
   "outputs": [
    {
     "data": {
      "image/png": "[encoded data removed]",
      "text/plain": [
       "<Figure size 432x288 with 1 Axes>"
      ]
     },
     "metadata": {
      "needs_background": "light"
     },
     "output_type": "display_data"
    }
   ],
   "source": [
    "# make sure that the LDF smoothing is working correctly\n",
    "i = 7\n",
    "ages = (np.array(range(len(atas_emp[i]))) + 1) * 12\n",
    "plt.plot(ages, atas_emp[i], label = \"Empirical\")\n",
    "plt.plot(ages, atas[i][:len(atas_emp[i])], label = \"Fitted\")\n",
    "plt.legend()\n",
    "plt.show()"
   ]
  },
  {
   "cell_type": "code",
   "execution_count": 17,
   "id": "adult-detection",
   "metadata": {},
   "outputs": [],
   "source": [
    "tris_lob_df[\"atu\"] = [\n",
    "    atus_map[prgm][int(dev // 12)] if prgm in list(atus_map.keys()) else 0\n",
    "    for prgm, dev in zip(tris_lob_df.tag, tris_lob_df.dev_lag)\n",
    "]\n",
    "tris_lob_df[\"ult_cl\"] = tris_lob_df.reported_lr * tris_lob_df.atu"
   ]
  },
  {
   "cell_type": "code",
   "execution_count": 18,
   "id": "pressed-pharmacy",
   "metadata": {
    "scrolled": true
   },
   "outputs": [],
   "source": [
    "ult_true = tris_lob_df[[\"tag\", \"lob\", \"year\", \"incurred_lr\", \"ult_cl\"]][tris_lob_df.dev_lag == tris_lob_df.max_dev_lag]\n",
    "ult_true[\"ult_true\"] = [(a + b) / 2 if b > 0 else a for a, b in zip(ult_true.incurred_lr, ult_true.ult_cl)]\n",
    "ult_true = ult_true[[\"tag\", \"lob\", \"year\", \"ult_true\"]]\n",
    "tris_lob_df = pd.merge(tris_lob_df, ult_true, how=\"left\", on=[\"tag\", \"lob\", \"year\"])\n",
    "tris_lob_df[\"bias\"] = tris_lob_df.ult_true / tris_lob_df.init_lr - 1"
   ]
  },
  {
   "cell_type": "code",
   "execution_count": 19,
   "id": "frozen-merit",
   "metadata": {},
   "outputs": [],
   "source": [
    "# remove any extreme outliers\n",
    "tris_lob_df = tris_lob_df[tris_lob_df.bias < 2]"
   ]
  },
  {
   "cell_type": "code",
   "execution_count": 20,
   "id": "accepted-variety",
   "metadata": {},
   "outputs": [
    {
     "name": "stderr",
     "output_type": "stream",
     "text": [
      "<ipython-input-20-2af71229927d>:7: FutureWarning: Indexing with multiple keys (implicitly converted to a tuple of keys) will be deprecated, use a list instead.\n",
      "  ult_year = tris_lob_df[tris_lob_df.dev_lag == tris_lob_df.max_dev_lag].groupby([\"lob\", \"year\"])[\"ult_true\", \"init_lr\", \"earned_premium\"].apply(f).reset_index()\n"
     ]
    }
   ],
   "source": [
    "def f(x):\n",
    "    return pd.Series({\n",
    "        \"avg_ult_year\": np.sum(x[\"ult_true\"] * np.sqrt(x[\"earned_premium\"])) / np.sum(np.sqrt(x[\"earned_premium\"])),\n",
    "        \"avg_init_year\": np.sum(x[\"init_lr\"] * np.sqrt(x[\"earned_premium\"])) / np.sum(np.sqrt(x[\"earned_premium\"])),\n",
    "    })\n",
    "\n",
    "ult_year = tris_lob_df[tris_lob_df.dev_lag == tris_lob_df.max_dev_lag].groupby([\"lob\", \"year\"])[\"ult_true\", \"init_lr\", \"earned_premium\"].apply(f).reset_index()\n",
    "ult_year[\"bias_year\"] = ult_year.avg_init_year / ult_year.avg_ult_year - 1\n",
    "tris_lob_df = pd.merge(tris_lob_df, ult_year, how=\"left\", on=[\"lob\", \"year\"])"
   ]
  },
  {
   "cell_type": "code",
   "execution_count": 21,
   "id": "isolated-london",
   "metadata": {},
   "outputs": [
    {
     "name": "stderr",
     "output_type": "stream",
     "text": [
      "<ipython-input-21-27a0c171ae10>:7: FutureWarning: Indexing with multiple keys (implicitly converted to a tuple of keys) will be deprecated, use a list instead.\n",
      "  ult_year_size = tris_lob_df[tris_lob_df.dev_lag == tris_lob_df.max_dev_lag].groupby([\"lob\", \"year\", \"size_group\"])[\"ult_true\", \"init_lr\", \"earned_premium\"].apply(f).reset_index()\n"
     ]
    }
   ],
   "source": [
    "def f(x):\n",
    "    return pd.Series({\n",
    "        \"avg_ult_year_size\": np.sum(x[\"ult_true\"] * np.sqrt(x[\"earned_premium\"])) / np.sum(np.sqrt(x[\"earned_premium\"])),\n",
    "        \"avg_init_year_size\": np.sum(x[\"init_lr\"] * np.sqrt(x[\"earned_premium\"])) / np.sum(np.sqrt(x[\"earned_premium\"])),\n",
    "    })\n",
    "\n",
    "ult_year_size = tris_lob_df[tris_lob_df.dev_lag == tris_lob_df.max_dev_lag].groupby([\"lob\", \"year\", \"size_group\"])[\"ult_true\", \"init_lr\", \"earned_premium\"].apply(f).reset_index()\n",
    "ult_year_size[\"bias_year_size\"] = ult_year_size.avg_init_year_size / ult_year_size.avg_ult_year_size - 1\n",
    "tris_lob_df = pd.merge(tris_lob_df, ult_year_size, how=\"left\", on=[\"lob\", \"year\", \"size_group\"])"
   ]
  },
  {
   "cell_type": "code",
   "execution_count": 22,
   "id": "chronic-steal",
   "metadata": {},
   "outputs": [
    {
     "name": "stderr",
     "output_type": "stream",
     "text": [
      "<ipython-input-22-6d13697c0dbd>:7: FutureWarning: Indexing with multiple keys (implicitly converted to a tuple of keys) will be deprecated, use a list instead.\n",
      "  ult_year_pct = tris_lob_df[tris_lob_df.dev_lag == tris_lob_df.max_dev_lag].groupby([\"lob\", \"year\", \"pct_group\"])[\"ult_true\", \"init_lr\", \"earned_premium\"].apply(f).reset_index()\n"
     ]
    }
   ],
   "source": [
    "def f(x):\n",
    "    return pd.Series({\n",
    "        \"avg_ult_year_pct\": np.sum(x[\"ult_true\"] * np.sqrt(x[\"earned_premium\"])) / np.sum(np.sqrt(x[\"earned_premium\"])),\n",
    "        \"avg_init_year_pct\": np.sum(x[\"init_lr\"] * np.sqrt(x[\"earned_premium\"])) / np.sum(np.sqrt(x[\"earned_premium\"])),\n",
    "    })\n",
    "\n",
    "ult_year_pct = tris_lob_df[tris_lob_df.dev_lag == tris_lob_df.max_dev_lag].groupby([\"lob\", \"year\", \"pct_group\"])[\"ult_true\", \"init_lr\", \"earned_premium\"].apply(f).reset_index()\n",
    "ult_year_pct[\"bias_year_pct\"] = ult_year_pct.avg_init_year_pct / ult_year_pct.avg_ult_year_pct - 1\n",
    "tris_lob_df = pd.merge(tris_lob_df, ult_year_pct, how=\"left\", on=[\"lob\", \"year\", \"pct_group\"])"
   ]
  },
  {
   "cell_type": "code",
   "execution_count": 23,
   "id": "valued-weekly",
   "metadata": {},
   "outputs": [
    {
     "name": "stderr",
     "output_type": "stream",
     "text": [
      "<ipython-input-23-e39e2c36ed26>:7: FutureWarning: Indexing with multiple keys (implicitly converted to a tuple of keys) will be deprecated, use a list instead.\n",
      "  ult_year_mutual = tris_lob_df[tris_lob_df.dev_lag == tris_lob_df.max_dev_lag].groupby([\"lob\", \"year\", \"mutual\"])[\"ult_true\", \"init_lr\", \"earned_premium\"].apply(f).reset_index()\n"
     ]
    }
   ],
   "source": [
    "def f(x):\n",
    "    return pd.Series({\n",
    "        \"avg_ult_year_mutual\": np.sum(x[\"ult_true\"] * np.sqrt(x[\"earned_premium\"])) / np.sum(np.sqrt(x[\"earned_premium\"])),\n",
    "        \"avg_init_year_mutual\": np.sum(x[\"init_lr\"] * np.sqrt(x[\"earned_premium\"])) / np.sum(np.sqrt(x[\"earned_premium\"])),\n",
    "    })\n",
    "\n",
    "ult_year_mutual = tris_lob_df[tris_lob_df.dev_lag == tris_lob_df.max_dev_lag].groupby([\"lob\", \"year\", \"mutual\"])[\"ult_true\", \"init_lr\", \"earned_premium\"].apply(f).reset_index()\n",
    "ult_year_mutual[\"bias_year_mutual\"] = ult_year_mutual.avg_init_year_mutual / ult_year_mutual.avg_ult_year_mutual - 1"
   ]
  },
  {
   "cell_type": "code",
   "execution_count": 24,
   "id": "alleged-vision",
   "metadata": {},
   "outputs": [],
   "source": [
    "bias_size = ult_year_size.groupby([\"size_group\"])[\"bias_year_size\"].mean().reset_index()\n",
    "bias_size = bias_size.rename(columns={\"bias_year_size\": \"bias_size\"})\n",
    "tris_lob_df = pd.merge(tris_lob_df, bias_size, how=\"left\", on=[\"size_group\"])"
   ]
  },
  {
   "cell_type": "code",
   "execution_count": 25,
   "id": "sublime-pasta",
   "metadata": {},
   "outputs": [],
   "source": [
    "tris_lob_df[\"init_lr_unbiased\"] = tris_lob_df.init_lr / (np.mean(ult_year.avg_init_year / ult_year.avg_ult_year))\n",
    "tris_lob_df[\"init_lr_unbiased_year\"] = tris_lob_df.init_lr / (1 + tris_lob_df.bias_year)\n",
    "tris_lob_df[\"init_lr_unbiased_year_size\"] = tris_lob_df.init_lr / (1 + tris_lob_df.bias_year_size)\n",
    "tris_lob_df[\"init_lr_unbiased_size\"] = tris_lob_df.init_lr / (1 + tris_lob_df.bias_size)"
   ]
  },
  {
   "cell_type": "markdown",
   "id": "alive-vitamin",
   "metadata": {},
   "source": [
    "## Quantify reaction speed to emerging losses"
   ]
  },
  {
   "cell_type": "code",
   "execution_count": 26,
   "id": "personal-retrieval",
   "metadata": {},
   "outputs": [],
   "source": [
    "# Generalized method\n",
    "\n",
    "def actuary_in_a_box(goal = \"Actual\", \n",
    "    error_penalty_rel=1,             \n",
    "    change_cost_rel=1,\n",
    "    retro_penalty=0,\n",
    "    apriori_lr_field=\"init_lr\",\n",
    "    subset=tags,\n",
    "    years=range(1990, 2011), \n",
    "    apriori_change_power=1,\n",
    "    ):\n",
    "    \"\"\"\n",
    "    goal:\n",
    "        Actual: match an average company's reserving\n",
    "        Accurate: most accurate to actual ultimates\n",
    "    \"\"\"\n",
    "    \n",
    "    ult_field = \"incurred_lr\" if goal == \"Actual\" else \"ult_true\"\n",
    "    tris = tris_lob_df[[(y in years) & (t in subset) for y, t in zip(tris_lob_df.year, tris_lob_df.tag)]]\n",
    "    tris = tris[tris.dev_lag <= 72]\n",
    "    \n",
    "    penalty_adverse = np.sqrt(error_penalty_rel)\n",
    "    penalty_favorable = 1.0 / penalty_adverse\n",
    "    \n",
    "    cost_def = np.sqrt(change_cost_rel)\n",
    "    cost_red = 1.0 / cost_def\n",
    "    \n",
    "    def f(params):\n",
    "        cred_power = np.exp(params[0])\n",
    "\n",
    "        z = tris.atu ** - cred_power\n",
    "        ult_ind = np.array(z * tris.ult_cl + (1 - z) * tris[apriori_lr_field])\n",
    "        tris[\"ult_ind\"] = ult_ind\n",
    "        error = np.array(np.sqrt(tris.earned_premium) * (ult_ind - tris[ult_field]) ** 2)\n",
    "        if change_cost_rel != 1.0:\n",
    "            error = error * np.array([(cost_red if direction > 0 else cost_def) for direction in ult_ind - tris[ult_field]])\n",
    "        \n",
    "        pen_change = 0\n",
    "        if error_penalty_rel != 1:\n",
    "            ult_change = (ult_ind[1:] - ult_ind[:-1])[tris.dev_lag[1:] > 0]\n",
    "            pen_change += np.sum([np.sqrt(e) * c ** 2 * (penalty_favorable if c <= 0 else penalty_adverse) for c, e in zip(ult_change, tris.earned_premium[1:][tris.dev_lag[1:] > 0])])\n",
    "        if retro_penalty > 0:\n",
    "            ult_change = (ult_ind[1:] - ult_ind[:-1])[tris.dev_lag[1:] > 0]\n",
    "            opt_change = (tris.ult_true[1:] - ult_ind[:-1])[tris.dev_lag[1:] > 0]\n",
    "            pen_change += np.sum([\n",
    "                np.sqrt(e) * retro_penalty * \n",
    "                (0 if abs(c) < abs(o) else (c - o) ** 2) if np.sign(c) == np.sign(o) else c ** 2\n",
    "                for c, o, e in zip(ult_change, opt_change, tris.earned_premium[1:][tris.dev_lag[1:] > 0])\n",
    "            ])\n",
    "\n",
    "        return np.sum(error[tris.dev_lag > 0]) + pen_change\n",
    "    \n",
    "    return f"
   ]
  },
  {
   "cell_type": "code",
   "execution_count": 27,
   "id": "compliant-jurisdiction",
   "metadata": {},
   "outputs": [
    {
     "data": {
      "text/plain": [
       "array([[2.51797922],\n",
       "       [0.83837122],\n",
       "       [0.82110632]])"
      ]
     },
     "execution_count": 27,
     "metadata": {},
     "output_type": "execute_result"
    }
   ],
   "source": [
    "# Calculate the company and most accurate R values\n",
    "fit_actual = minimize(actuary_in_a_box(\"Actual\"), [0.0])\n",
    "fit_accurate = minimize(actuary_in_a_box(\"Accurate\"), [0.0])\n",
    "fit_accurate_nobias = minimize(actuary_in_a_box(\"Accurate\", apriori_lr_field=\"init_lr_unbiased_size\"), [0.0])\n",
    "\n",
    "np.exp((\n",
    "    fit_actual.x, fit_accurate.x, fit_accurate_nobias.x\n",
    "))"
   ]
  },
  {
   "cell_type": "code",
   "execution_count": 28,
   "id": "loaded-advance",
   "metadata": {},
   "outputs": [
    {
     "data": {
      "image/png": "[encoded data removed]",
      "text/plain": [
       "<Figure size 432x288 with 1 Axes>"
      ]
     },
     "metadata": {
      "needs_background": "light"
     },
     "output_type": "display_data"
    },
    {
     "data": {
      "image/png": "[encoded data removed]",
      "text/plain": [
       "<Figure size 432x288 with 1 Axes>"
      ]
     },
     "metadata": {
      "needs_background": "light"
     },
     "output_type": "display_data"
    },
    {
     "name": "stdout",
     "output_type": "stream",
     "text": [
      "Series([], Name: tag, dtype: object)\n",
      "Series([], Name: tag, dtype: object)\n"
     ]
    }
   ],
   "source": [
    "lob_prem[\"error_actual\"] = [actuary_in_a_box(\"Actual\", subset=[t])(fit_actual.x) for t in lob_prem.tag]\n",
    "plt.hist(lob_prem.error_actual)\n",
    "plt.show()\n",
    "\n",
    "plt.hist(lob_prem.error_actual / np.sqrt(lob_prem.lob_prem))\n",
    "plt.show()\n",
    "\n",
    "print(lob_prem.tag[lob_prem.error_actual > 20e3])\n",
    "print(lob_prem.tag[lob_prem.error_actual / np.sqrt(lob_prem.lob_prem) > 3])"
   ]
  },
  {
   "cell_type": "code",
   "execution_count": 29,
   "id": "computational-cleaner",
   "metadata": {},
   "outputs": [
    {
     "data": {
      "text/plain": [
       "0.055141771344597953"
      ]
     },
     "execution_count": 29,
     "metadata": {},
     "output_type": "execute_result"
    }
   ],
   "source": [
    "# Average initial LR bias\n",
    "np.mean(ult_year.bias_year[ult_year.year.apply(lambda x: x in range(1991, 2011))])"
   ]
  },
  {
   "cell_type": "code",
   "execution_count": 30,
   "id": "extra-absence",
   "metadata": {},
   "outputs": [
    {
     "data": {
      "text/plain": [
       "array([[1.06415279],\n",
       "       [1.00585718],\n",
       "       [1.19235694]])"
      ]
     },
     "execution_count": 30,
     "metadata": {},
     "output_type": "execute_result"
    }
   ],
   "source": [
    "# With change penalties\n",
    "fit_opt = minimize(actuary_in_a_box(\"Accurate\", apriori_lr_field=\"init_lr_unbiased_size\", error_penalty_rel=4), [0.0])\n",
    "\n",
    "fit_retro = minimize(actuary_in_a_box(\"Accurate\", apriori_lr_field=\"init_lr_unbiased_size\", retro_penalty=4), [0.0])\n",
    "\n",
    "fit_both_pen = minimize(actuary_in_a_box(\"Accurate\", apriori_lr_field=\"init_lr_unbiased_size\", error_penalty_rel=4, retro_penalty=4), [0.0])\n",
    "\n",
    "np.exp((\n",
    "    fit_opt.x, fit_retro.x, fit_both_pen.x\n",
    "))"
   ]
  },
  {
   "cell_type": "code",
   "execution_count": 31,
   "id": "mexican-pursuit",
   "metadata": {
    "scrolled": true
   },
   "outputs": [
    {
     "data": {
      "text/plain": [
       "(285.87899803562135, 255.2497647930549, 161.56067569552815)"
      ]
     },
     "execution_count": 31,
     "metadata": {},
     "output_type": "execute_result"
    }
   ],
   "source": [
    "# Out of sample errors using 5-fold cross validation\n",
    "num_folds = 5\n",
    "tags_fold = tags.copy()\n",
    "np.random.shuffle(tags_fold)\n",
    "folds = np.array(np.array_split(tags_fold, num_folds), dtype = object)\n",
    "\n",
    "error_actual = 0\n",
    "error_accurate = 0\n",
    "\n",
    "for fold in range(num_folds):\n",
    "    fit_subset = np.concatenate(folds[np.array(range(num_folds)) != fold])\n",
    "    \n",
    "    fit_actual_temp = minimize(actuary_in_a_box(\"Actual\", subset=fit_subset), [0.0])\n",
    "    fit_accurate_temp = minimize(actuary_in_a_box(\"Accurate\", apriori_lr_field=\"init_lr_unbiased_size\", subset=fit_subset), [0.0])\n",
    "    \n",
    "    error_actual += actuary_in_a_box(\"Accurate\", subset=folds[fold])(fit_actual_temp.x)\n",
    "    error_accurate += actuary_in_a_box(\"Accurate\", subset=folds[fold])(fit_accurate_temp.x)\n",
    "\n",
    "error_hist = actuary_in_a_box(\"Accurate\", subset=tags, apriori_lr_field=\"incurred_lr\")([10])\n",
    "(error_hist / 1e3, error_actual / 1e3, error_accurate / 1e3)\n",
    "    "
   ]
  },
  {
   "cell_type": "code",
   "execution_count": null,
   "id": "deluxe-newsletter",
   "metadata": {},
   "outputs": [],
   "source": []
  },
  {
   "cell_type": "code",
   "execution_count": 32,
   "id": "twelve-daisy",
   "metadata": {},
   "outputs": [
    {
     "data": {
      "text/html": [
       "<div>\n",
       "<style scoped>\n",
       "    .dataframe tbody tr th:only-of-type {\n",
       "        vertical-align: middle;\n",
       "    }\n",
       "\n",
       "    .dataframe tbody tr th {\n",
       "        vertical-align: top;\n",
       "    }\n",
       "\n",
       "    .dataframe thead th {\n",
       "        text-align: right;\n",
       "    }\n",
       "</style>\n",
       "<table border=\"1\" class=\"dataframe\">\n",
       "  <thead>\n",
       "    <tr style=\"text-align: right;\">\n",
       "      <th></th>\n",
       "      <th>Years</th>\n",
       "      <th>Bias</th>\n",
       "      <th>R Company</th>\n",
       "      <th>R Accurate</th>\n",
       "      <th>R Accurate (Unbiased)</th>\n",
       "    </tr>\n",
       "  </thead>\n",
       "  <tbody>\n",
       "    <tr>\n",
       "      <th>0</th>\n",
       "      <td>(1991, 1992, 1993, 1994, 1995)</td>\n",
       "      <td>0.010510</td>\n",
       "      <td>[1.5666327334965058]</td>\n",
       "      <td>[1.0855178386898379]</td>\n",
       "      <td>[1.009775342332279]</td>\n",
       "    </tr>\n",
       "    <tr>\n",
       "      <th>1</th>\n",
       "      <td>(1996, 1997, 1998, 1999, 2000)</td>\n",
       "      <td>-0.046615</td>\n",
       "      <td>[2.0144580568303]</td>\n",
       "      <td>[0.40449359131567564]</td>\n",
       "      <td>[0.2716217657158056]</td>\n",
       "    </tr>\n",
       "    <tr>\n",
       "      <th>2</th>\n",
       "      <td>(2001, 2002, 2003, 2004, 2005)</td>\n",
       "      <td>0.149000</td>\n",
       "      <td>[2.6019452560540093]</td>\n",
       "      <td>[0.3452399773778171]</td>\n",
       "      <td>[0.5824317673448003]</td>\n",
       "    </tr>\n",
       "    <tr>\n",
       "      <th>3</th>\n",
       "      <td>(2006, 2007, 2008, 2009, 2010)</td>\n",
       "      <td>0.107671</td>\n",
       "      <td>[4.006587042464694]</td>\n",
       "      <td>[1.0163727089740295]</td>\n",
       "      <td>[0.9539840721659093]</td>\n",
       "    </tr>\n",
       "  </tbody>\n",
       "</table>\n",
       "</div>"
      ],
      "text/plain": [
       "                            Years      Bias             R Company  \\\n",
       "0  (1991, 1992, 1993, 1994, 1995)  0.010510  [1.5666327334965058]   \n",
       "1  (1996, 1997, 1998, 1999, 2000) -0.046615     [2.0144580568303]   \n",
       "2  (2001, 2002, 2003, 2004, 2005)  0.149000  [2.6019452560540093]   \n",
       "3  (2006, 2007, 2008, 2009, 2010)  0.107671   [4.006587042464694]   \n",
       "\n",
       "              R Accurate R Accurate (Unbiased)  \n",
       "0   [1.0855178386898379]   [1.009775342332279]  \n",
       "1  [0.40449359131567564]  [0.2716217657158056]  \n",
       "2   [0.3452399773778171]  [0.5824317673448003]  \n",
       "3   [1.0163727089740295]  [0.9539840721659093]  "
      ]
     },
     "execution_count": 32,
     "metadata": {},
     "output_type": "execute_result"
    }
   ],
   "source": [
    "# By year group\n",
    "\n",
    "r_actual_year = [np.exp(minimize(actuary_in_a_box(\"Actual\", years = y), [0.0]).x) for y in year_groups]\n",
    "r_accurate_year = [np.exp(minimize(actuary_in_a_box(\"Accurate\", years = y), [0.0]).x) for y in year_groups]\n",
    "r_accurate_nobias_year = [np.exp(minimize(actuary_in_a_box(\"Accurate\", apriori_lr_field=\"init_lr_unbiased_size\", years = y), [0.0]).x) for y in year_groups]\n",
    "\n",
    "pd.DataFrame({\n",
    "    \"Years\": year_groups, \n",
    "    \"Bias\": [np.mean(ult_year.bias_year[ult_year.year.apply(lambda x: x in y)]) for y in year_groups],\n",
    "    \"R Company\": r_actual_year,\n",
    "    \"R Accurate\": r_accurate_year,\n",
    "    \"R Accurate (Unbiased)\": r_accurate_nobias_year,\n",
    "})"
   ]
  },
  {
   "cell_type": "code",
   "execution_count": 33,
   "id": "miniature-meaning",
   "metadata": {},
   "outputs": [
    {
     "data": {
      "text/html": [
       "<div>\n",
       "<style scoped>\n",
       "    .dataframe tbody tr th:only-of-type {\n",
       "        vertical-align: middle;\n",
       "    }\n",
       "\n",
       "    .dataframe tbody tr th {\n",
       "        vertical-align: top;\n",
       "    }\n",
       "\n",
       "    .dataframe thead th {\n",
       "        text-align: right;\n",
       "    }\n",
       "</style>\n",
       "<table border=\"1\" class=\"dataframe\">\n",
       "  <thead>\n",
       "    <tr style=\"text-align: right;\">\n",
       "      <th></th>\n",
       "      <th>Size</th>\n",
       "      <th>Avg Pct</th>\n",
       "      <th>Avg Size</th>\n",
       "      <th>Bias</th>\n",
       "      <th>R Company</th>\n",
       "      <th>R Accurate</th>\n",
       "      <th>R Accurate (Unbiased)</th>\n",
       "      <th>R Opt</th>\n",
       "      <th>R Cpn / R Opt</th>\n",
       "    </tr>\n",
       "  </thead>\n",
       "  <tbody>\n",
       "    <tr>\n",
       "      <th>0</th>\n",
       "      <td>0</td>\n",
       "      <td>0.133941</td>\n",
       "      <td>4.381673e+07</td>\n",
       "      <td>0.151053</td>\n",
       "      <td>3.104892</td>\n",
       "      <td>9.074331e-01</td>\n",
       "      <td>8.791811e-01</td>\n",
       "      <td>1.492887</td>\n",
       "      <td>2.079790</td>\n",
       "    </tr>\n",
       "    <tr>\n",
       "      <th>1</th>\n",
       "      <td>1</td>\n",
       "      <td>0.091894</td>\n",
       "      <td>1.326217e+08</td>\n",
       "      <td>0.176628</td>\n",
       "      <td>2.396435</td>\n",
       "      <td>9.735170e-01</td>\n",
       "      <td>9.430985e-01</td>\n",
       "      <td>1.072842</td>\n",
       "      <td>2.233726</td>\n",
       "    </tr>\n",
       "    <tr>\n",
       "      <th>2</th>\n",
       "      <td>2</td>\n",
       "      <td>0.238749</td>\n",
       "      <td>4.098170e+08</td>\n",
       "      <td>0.013492</td>\n",
       "      <td>1.978658</td>\n",
       "      <td>8.209427e-08</td>\n",
       "      <td>4.185849e-08</td>\n",
       "      <td>0.399969</td>\n",
       "      <td>4.947028</td>\n",
       "    </tr>\n",
       "  </tbody>\n",
       "</table>\n",
       "</div>"
      ],
      "text/plain": [
       "   Size   Avg Pct      Avg Size      Bias  R Company    R Accurate  \\\n",
       "0     0  0.133941  4.381673e+07  0.151053   3.104892  9.074331e-01   \n",
       "1     1  0.091894  1.326217e+08  0.176628   2.396435  9.735170e-01   \n",
       "2     2  0.238749  4.098170e+08  0.013492   1.978658  8.209427e-08   \n",
       "\n",
       "   R Accurate (Unbiased)     R Opt  R Cpn / R Opt  \n",
       "0           8.791811e-01  1.492887       2.079790  \n",
       "1           9.430985e-01  1.072842       2.233726  \n",
       "2           4.185849e-08  0.399969       4.947028  "
      ]
     },
     "execution_count": 33,
     "metadata": {},
     "output_type": "execute_result"
    }
   ],
   "source": [
    "# By size group\n",
    "\n",
    "tags_size = [\n",
    "    list(lob_prem.tag[(lob_prem.size_group == s)])\n",
    "    for s in range(num_size_groups) \n",
    "]\n",
    "\n",
    "r_actual_size = [np.exp(minimize(actuary_in_a_box(\"Actual\", subset=tags_size[s]), [0.0]).x[0]) for s in range(num_size_groups)]\n",
    "r_accurate_size = [np.exp(minimize(actuary_in_a_box(\"Accurate\", subset=tags_size[s]), [0.0]).x[0]) for s in range(num_size_groups)]\n",
    "r_accurate_nobias_size = [np.exp(minimize(actuary_in_a_box(\"Accurate\", apriori_lr_field=\"init_lr_unbiased_size\", subset=tags_size[s]), [0.0]).x[0]) for s in range(num_size_groups)]\n",
    "\n",
    "r_both_pen_small = [np.exp(minimize(actuary_in_a_box(\"Accurate\", apriori_lr_field=\"init_lr_unbiased_size\", subset=tags_size[s], error_penalty_rel=4, retro_penalty=4), [0.0]).x[0]) for s in range(num_size_groups)]                \n",
    "\n",
    "pd.DataFrame({\n",
    "    \"Size\": range(num_size_groups), \n",
    "    \"Avg Pct\": [np.mean(lob_prem.pct_lob[lob_prem.size_group == s]) for s in range(num_size_groups)],\n",
    "    \"Avg Size\": [np.mean(lob_prem.lob_prem[lob_prem.size_group == s]) for s in range(num_size_groups)],\n",
    "    \"Bias\": [np.mean(ult_year_size.bias_year_size[ult_year_size.size_group == s]) for s in range(num_size_groups)],\n",
    "    \"R Company\": r_actual_size,\n",
    "    \"R Accurate\": r_accurate_size,\n",
    "    \"R Accurate (Unbiased)\": r_accurate_nobias_size,\n",
    "    \"R Opt\": r_both_pen_small,\n",
    "    \"R Cpn / R Opt\": np.array(r_actual_size) / np.array(r_both_pen_small),\n",
    "})"
   ]
  },
  {
   "cell_type": "code",
   "execution_count": 34,
   "id": "bizarre-cemetery",
   "metadata": {},
   "outputs": [
    {
     "data": {
      "text/html": [
       "<div>\n",
       "<style scoped>\n",
       "    .dataframe tbody tr th:only-of-type {\n",
       "        vertical-align: middle;\n",
       "    }\n",
       "\n",
       "    .dataframe tbody tr th {\n",
       "        vertical-align: top;\n",
       "    }\n",
       "\n",
       "    .dataframe thead th {\n",
       "        text-align: right;\n",
       "    }\n",
       "</style>\n",
       "<table border=\"1\" class=\"dataframe\">\n",
       "  <thead>\n",
       "    <tr style=\"text-align: right;\">\n",
       "      <th></th>\n",
       "      <th>Pct</th>\n",
       "      <th>Avg Pct</th>\n",
       "      <th>Avg Size</th>\n",
       "      <th>Bias</th>\n",
       "      <th>R Company</th>\n",
       "      <th>R Accurate</th>\n",
       "      <th>R Accurate (Unbiased)</th>\n",
       "      <th>R Opt</th>\n",
       "    </tr>\n",
       "  </thead>\n",
       "  <tbody>\n",
       "    <tr>\n",
       "      <th>0</th>\n",
       "      <td>0</td>\n",
       "      <td>0.022721</td>\n",
       "      <td>1.717901e+08</td>\n",
       "      <td>0.029021</td>\n",
       "      <td>1.943764</td>\n",
       "      <td>0.650881</td>\n",
       "      <td>0.641844</td>\n",
       "      <td>1.291551</td>\n",
       "    </tr>\n",
       "    <tr>\n",
       "      <th>1</th>\n",
       "      <td>1</td>\n",
       "      <td>0.090713</td>\n",
       "      <td>2.177251e+08</td>\n",
       "      <td>0.058951</td>\n",
       "      <td>5.007549</td>\n",
       "      <td>1.002439</td>\n",
       "      <td>0.943132</td>\n",
       "      <td>1.161113</td>\n",
       "    </tr>\n",
       "    <tr>\n",
       "      <th>2</th>\n",
       "      <td>2</td>\n",
       "      <td>0.351149</td>\n",
       "      <td>1.967403e+08</td>\n",
       "      <td>0.148518</td>\n",
       "      <td>2.282637</td>\n",
       "      <td>0.817485</td>\n",
       "      <td>0.899163</td>\n",
       "      <td>1.149878</td>\n",
       "    </tr>\n",
       "  </tbody>\n",
       "</table>\n",
       "</div>"
      ],
      "text/plain": [
       "   Pct   Avg Pct      Avg Size      Bias  R Company  R Accurate  \\\n",
       "0    0  0.022721  1.717901e+08  0.029021   1.943764    0.650881   \n",
       "1    1  0.090713  2.177251e+08  0.058951   5.007549    1.002439   \n",
       "2    2  0.351149  1.967403e+08  0.148518   2.282637    0.817485   \n",
       "\n",
       "   R Accurate (Unbiased)     R Opt  \n",
       "0               0.641844  1.291551  \n",
       "1               0.943132  1.161113  \n",
       "2               0.899163  1.149878  "
      ]
     },
     "execution_count": 34,
     "metadata": {},
     "output_type": "execute_result"
    }
   ],
   "source": [
    "# By LOB percentage group\n",
    "\n",
    "tags_pct = [\n",
    "    list(lob_prem.tag[(lob_prem.pct_group == s)])\n",
    "    for s in range(num_size_groups) \n",
    "]\n",
    "\n",
    "r_actual_pct = [np.exp(minimize(actuary_in_a_box(\"Actual\", subset=tags_pct[s]), [0.0]).x[0]) for s in range(num_size_groups)]\n",
    "r_accurate_pct = [np.exp(minimize(actuary_in_a_box(\"Accurate\", subset=tags_pct[s]), [0.0]).x[0]) for s in range(num_size_groups)]\n",
    "r_accurate_nobias_pct = [np.exp(minimize(actuary_in_a_box(\"Accurate\", apriori_lr_field=\"init_lr_unbiased_size\", subset=tags_pct[s]), [0.0]).x[0]) for s in range(num_size_groups)]\n",
    "\n",
    "###r_both_pen_small = [np.exp(minimize(actuary_in_a_box(\"Accurate\", apriori_lr_field=\"init_lr_unbiased_size\", subset=tags_size[s], error_penalty_rel=4, retro_penalty=4), [0.0]).x) for s in range(num_size_groups)]                \n",
    "r_both_pen_small = [np.exp(minimize(actuary_in_a_box(\"Accurate\", subset=tags_pct[s], error_penalty_rel=4, retro_penalty=4), [0.0]).x[0]) for s in range(num_size_groups)]                \n",
    "\n",
    "pd.DataFrame({\n",
    "    \"Pct\": range(num_size_groups), \n",
    "    \"Avg Pct\": [np.mean(lob_prem.pct_lob[lob_prem.pct_group == s]) for s in range(num_size_groups)],\n",
    "    \"Avg Size\": [np.mean(lob_prem.lob_prem[lob_prem.pct_group == s]) for s in range(num_size_groups)],\n",
    "    \"Bias\": [np.mean(ult_year_pct.bias_year_pct[ult_year_pct.pct_group == s]) for s in range(num_size_groups)],\n",
    "    \"R Company\": r_actual_pct,\n",
    "    \"R Accurate\": r_accurate_pct,\n",
    "    \"R Accurate (Unbiased)\": r_accurate_nobias_pct,\n",
    "    \"R Opt\": r_both_pen_small,\n",
    "})"
   ]
  },
  {
   "cell_type": "code",
   "execution_count": 35,
   "id": "electoral-telescope",
   "metadata": {},
   "outputs": [
    {
     "data": {
      "image/png": "[encoded data removed]",
      "text/plain": [
       "<Figure size 432x288 with 1 Axes>"
      ]
     },
     "metadata": {
      "needs_background": "light"
     },
     "output_type": "display_data"
    }
   ],
   "source": [
    "\n",
    "plt.scatter(np.log(tris_lob_df.lob_prem), tris_lob_df.bias)\n",
    "plt.show()"
   ]
  },
  {
   "cell_type": "code",
   "execution_count": 36,
   "id": "naval-chorus",
   "metadata": {},
   "outputs": [
    {
     "data": {
      "text/plain": [
       "(11.69352431032133, 2.4517714407172275)"
      ]
     },
     "execution_count": 36,
     "metadata": {},
     "output_type": "execute_result"
    }
   ],
   "source": [
    "# mutuals vs other\n",
    "(\n",
    "    np.exp(minimize(actuary_in_a_box(\"Actual\", subset=mutuals), [0.0]).x[0]),\n",
    "    np.exp(minimize(actuary_in_a_box(\"Actual\", subset=non_mutuals), [0.0]).x[0])\n",
    ")"
   ]
  },
  {
   "cell_type": "code",
   "execution_count": 37,
   "id": "underlying-leader",
   "metadata": {},
   "outputs": [
    {
     "data": {
      "text/plain": [
       "([0.31463746511968, 0.0314295455821839],)"
      ]
     },
     "execution_count": 37,
     "metadata": {},
     "output_type": "execute_result"
    }
   ],
   "source": [
    "[np.mean(ult_year_mutual.bias_year_mutual[ult_year_mutual.mutual == x]) for x in [True, False]],"
   ]
  },
  {
   "cell_type": "code",
   "execution_count": null,
   "id": "fitted-country",
   "metadata": {},
   "outputs": [],
   "source": []
  },
  {
   "cell_type": "code",
   "execution_count": 38,
   "id": "instrumental-injury",
   "metadata": {},
   "outputs": [
    {
     "data": {
      "text/plain": [
       "(200, 200)"
      ]
     },
     "execution_count": 38,
     "metadata": {},
     "output_type": "execute_result"
    }
   ],
   "source": [
    "# back into implied penalties\n",
    "pen_test = [1, 4, 6, 8, 10, 15, 20, 25, 50, 75, 100, 200, 300, 400, 500, 750, 1000]\n",
    "\n",
    "log_r_opt = [\n",
    "    minimize(actuary_in_a_box(\"Accurate\", apriori_lr_field=\"init_lr_unbiased_size\", error_penalty_rel=p), [0.0]).x\n",
    "    for p in pen_test\n",
    "]\n",
    "\n",
    "log_r_retro = [\n",
    "    minimize(actuary_in_a_box(\"Accurate\", apriori_lr_field=\"init_lr_unbiased_size\", retro_penalty=p), [0.0]).x\n",
    "    for p in pen_test\n",
    "]\n",
    "\n",
    "(\n",
    "    pen_test[np.argmin((log_r_opt - fit_actual.x) ** 2)],\n",
    "    pen_test[np.argmin((log_r_retro - fit_actual.x) ** 2)],\n",
    ")"
   ]
  },
  {
   "cell_type": "code",
   "execution_count": 39,
   "id": "french-language",
   "metadata": {},
   "outputs": [
    {
     "data": {
      "image/png": "[encoded data removed]",
      "text/plain": [
       "<Figure size 432x288 with 1 Axes>"
      ]
     },
     "metadata": {
      "needs_background": "light"
     },
     "output_type": "display_data"
    }
   ],
   "source": [
    "plt.hist(list(tris_lob_df[tris_lob_df.tag.apply(lambda x: x in list(lob_prem.tag[lob_prem.size_group == 0]))].earned_premium/1e6))\n",
    "plt.show()"
   ]
  },
  {
   "cell_type": "code",
   "execution_count": null,
   "id": "dominant-system",
   "metadata": {},
   "outputs": [],
   "source": []
  },
  {
   "cell_type": "code",
   "execution_count": 40,
   "id": "spare-plate",
   "metadata": {},
   "outputs": [
    {
     "data": {
      "image/png": "[encoded data removed]",
      "text/plain": [
       "<Figure size 432x288 with 1 Axes>"
      ]
     },
     "metadata": {
      "needs_background": "light"
     },
     "output_type": "display_data"
    },
    {
     "data": {
      "text/plain": [
       "Series([], Name: tag, dtype: object)"
      ]
     },
     "execution_count": 40,
     "metadata": {},
     "output_type": "execute_result"
    }
   ],
   "source": [
    "log_r_actual_each = np.array([minimize(actuary_in_a_box(\"Actual\", subset=t), [0.0]).x[0] for t in lob_prem.tag])\n",
    "lob_prem[\"r_actual\"] = np.exp(log_r_actual_each)\n",
    "\n",
    "plt.hist(np.exp(log_r_actual_each))\n",
    "plt.show()\n",
    "\n",
    "lob_prem.tag[lob_prem.r_actual > 500]"
   ]
  },
  {
   "cell_type": "code",
   "execution_count": null,
   "id": "superb-garage",
   "metadata": {},
   "outputs": [],
   "source": []
  },
  {
   "cell_type": "markdown",
   "id": "diverse-compiler",
   "metadata": {},
   "source": [
    "## Loss Ratio Changes"
   ]
  },
  {
   "cell_type": "code",
   "execution_count": 41,
   "id": "early-light",
   "metadata": {},
   "outputs": [],
   "source": [
    "evals = sorted(np.unique(tris_lob_df.evaluation_date))\n",
    "years = sorted(np.unique(tris_lob_df.year))"
   ]
  },
  {
   "cell_type": "code",
   "execution_count": 42,
   "id": "fallen-dollar",
   "metadata": {},
   "outputs": [],
   "source": [
    "tris_lob_df[\"incurred_lr_next\"] = tris_lob_df.groupby([\"tag\", \"eval_year\"])[\"incurred_lr\"].shift(-1)\n",
    "tris_lob_df[\"incurred_lr_change\"] = tris_lob_df.incurred_lr_next / tris_lob_df.incurred_lr - 1\n",
    "tris_lob_df[\"incurred_lr_change\"] = tris_lob_df[\"incurred_lr_change\"].fillna(0)\n",
    "\n",
    "rate_trend_df = tris_lob_df[[\"tag\", \"year\", \"incurred_lr_change\"]][tris_lob_df.dev_lag == 0]\n",
    "rate_trend_df = rate_trend_df.rename(columns={\"incurred_lr_change\": \"rate_trend_change\"})\n",
    "rate_trend_df[\"rate_trend_factor\"] = 1 + rate_trend_df.rate_trend_change\n",
    "tris_lob_df = pd.merge(tris_lob_df, rate_trend_df, how=\"left\", on=[\"tag\", \"year\"])\n",
    "tris_lob_df[\"cuml_rate_trend_factor\"] = tris_lob_df.sort_values([\"year\"], ascending=False).groupby([\"tag\", \"eval_year\"])[\"rate_trend_factor\"].cumprod()[::-1]\n",
    "tris_lob_df[\"onlevel_ult_cl\"] = tris_lob_df.ult_cl * tris_lob_df.cuml_rate_trend_factor\n",
    "tris_lob_df[\"onlevel_incurred_lr\"] = tris_lob_df.incurred_lr * tris_lob_df.cuml_rate_trend_factor\n"
   ]
  },
  {
   "cell_type": "code",
   "execution_count": 43,
   "id": "loaded-functionality",
   "metadata": {},
   "outputs": [],
   "source": [
    "tris_lob_df[\"onlevel_ult_cl_prev\"] = tris_lob_df.groupby([\"tag\", \"eval_year\"])[\"onlevel_ult_cl\"].shift(1)\n",
    "tris_lob_df[\"onlevel_ult_cl_change\"] = tris_lob_df.onlevel_ult_cl / tris_lob_df.onlevel_ult_cl_prev - 1\n",
    "tris_lob_df[\"onlevel_ult_cl_change\"] = tris_lob_df[\"onlevel_ult_cl_change\"].fillna(0)\n",
    "\n",
    "tris_lob_df[\"onlevel_incurred_lr_prev\"] = tris_lob_df.groupby([\"tag\", \"eval_year\"])[\"onlevel_incurred_lr\"].shift(1)\n",
    "tris_lob_df[\"onlevel_incurred_lr_change\"] = tris_lob_df.onlevel_incurred_lr / tris_lob_df.onlevel_incurred_lr_prev - 1\n",
    "tris_lob_df[\"onlevel_incurred_lr_change\"] = tris_lob_df[\"onlevel_incurred_lr_change\"].fillna(0)\n",
    "\n",
    "#tris_lob_df.onlevel_incurred_lr_change[tris_lob_df.dev_lag == 0]"
   ]
  },
  {
   "cell_type": "code",
   "execution_count": 44,
   "id": "empty-integral",
   "metadata": {},
   "outputs": [],
   "source": [
    "tris = tris_lob_df.copy()"
   ]
  },
  {
   "cell_type": "code",
   "execution_count": 45,
   "id": "distributed-killing",
   "metadata": {},
   "outputs": [],
   "source": [
    "def logit(x):\n",
    "    return np.exp(x) / (1 + np.exp(x))\n",
    "\n",
    "\n",
    "def inv_logit(x):\n",
    "    return np.log(x / (1 - x))"
   ]
  },
  {
   "cell_type": "code",
   "execution_count": 46,
   "id": "revolutionary-people",
   "metadata": {},
   "outputs": [],
   "source": [
    "# Generalized Cape-Cod method (Gluck 1997)\n",
    "\n",
    "lr_field_map = {\n",
    "    \"Actual\": \"init_lr\",\n",
    "    \"Actual Unbiased\": \"init_lr_unbiased\",\n",
    "    \"Actual Unbiased Size\": \"init_lr_unbiased_size\",\n",
    "    \"Accurate\": \"ult_true\",\n",
    "}\n",
    "\n",
    "def gen_cc(params, tris, goal=\"Actual\", double=False, use_incurred=False, cred_trend=True, start_year=1996, end_year=2011):\n",
    "    \n",
    "    lr_field = lr_field_map[goal]\n",
    "\n",
    "    alpha = logit(params[0])\n",
    "    \n",
    "    # calculate decaying weights for expected lr and for trend\n",
    "    if double:\n",
    "        beta = logit(params[1])\n",
    "        cred = logit(params[2]) if cred_trend else 1\n",
    "        \n",
    "        tris[\"w1\"] = (tris.dev_lag > 0) * tris.earned_premium / tris.atu * alpha ** (tris.eval_year -  tris.year)\n",
    "        tris[\"w2\"] = (tris.dev_lag > 0) * (tris.earned_premium / tris.atu * beta ** (tris.eval_year -  tris.year))\n",
    "    else:\n",
    "        tris[\"w1\"] = (tris.dev_lag > 0) * tris.earned_premium / tris.atu * alpha ** (tris.eval_year -  tris.year)\n",
    "    \n",
    "    if double:\n",
    "        # exponential decay on lr change\n",
    "        if use_incurred:\n",
    "            tris[\"w2_x_change\"] = tris.onlevel_incurred_lr_change * tris.w2 * cred\n",
    "        else:\n",
    "            tris[\"w2_x_change\"] = tris.onlevel_ult_cl_change * tris.w2 * cred\n",
    "        tris[\"cuml_w2\"] = tris.groupby([\"tag\", \"eval_year\"])[\"w2\"].cumsum()\n",
    "        tris[\"cuml_w2_x_change\"] = tris.groupby([\"tag\", \"eval_year\"])[\"w2_x_change\"].cumsum()\n",
    "        tris[\"pred_change\"] = tris.cuml_w2_x_change / tris.cuml_w2\n",
    "        tris[\"pred_change_factor\"] = 1 + tris.pred_change\n",
    "        tris[\"pred_cuml_change_factor\"] = tris.sort_values([\"year\"], ascending=False).groupby([\"tag\", \"eval_year\"])[\"pred_change_factor\"].cumprod()[::-1]\n",
    "        if use_incurred:\n",
    "            tris[\"trended_ult_cl\"] = tris.onlevel_incurred_lr * tris.pred_cuml_change_factor\n",
    "        else:\n",
    "            tris[\"trended_ult_cl\"] = tris.onlevel_ult_cl * tris.pred_cuml_change_factor\n",
    "        \n",
    "\n",
    "    # exponential decay on trended lrs (generalized cape-cod)\n",
    "    if double:\n",
    "        tris[\"w1_x_lr\"] = tris.trended_ult_cl * tris.w1\n",
    "    else:\n",
    "        if use_incurred:\n",
    "            tris[\"w1_x_lr\"] = tris.onlevel_incurred_lr * tris.w1\n",
    "        else:\n",
    "            tris[\"w1_x_lr\"] = tris.onlevel_ult_cl * tris.w1\n",
    "    tris[\"cuml_w1\"] = tris.groupby([\"tag\", \"eval_year\"])[\"w1\"].cumsum()\n",
    "    tris[\"cuml_w1_x_lr\"] = tris.groupby([\"tag\", \"eval_year\"])[\"w1_x_lr\"].cumsum()\n",
    "    tris[\"pred_lr\"] = tris.cuml_w1_x_lr / tris.cuml_w1\n",
    "    \n",
    "    # calculate total error\n",
    "    f = (tris.dev_lag == 0) & (tris.year >= start_year) & (tris.year <= end_year)\n",
    "    error = np.sum(np.sqrt(tris.earned_premium[f]) * (tris.pred_lr[f] - tris[lr_field][f]) ** 2)\n",
    "    return error\n"
   ]
  },
  {
   "cell_type": "code",
   "execution_count": 47,
   "id": "tight-overall",
   "metadata": {},
   "outputs": [
    {
     "data": {
      "text/html": [
       "<div>\n",
       "<style scoped>\n",
       "    .dataframe tbody tr th:only-of-type {\n",
       "        vertical-align: middle;\n",
       "    }\n",
       "\n",
       "    .dataframe tbody tr th {\n",
       "        vertical-align: top;\n",
       "    }\n",
       "\n",
       "    .dataframe thead th {\n",
       "        text-align: right;\n",
       "    }\n",
       "</style>\n",
       "<table border=\"1\" class=\"dataframe\">\n",
       "  <thead>\n",
       "    <tr style=\"text-align: right;\">\n",
       "      <th></th>\n",
       "      <th>type</th>\n",
       "      <th>x</th>\n",
       "      <th>accuracy error</th>\n",
       "      <th>booking error</th>\n",
       "    </tr>\n",
       "  </thead>\n",
       "  <tbody>\n",
       "    <tr>\n",
       "      <th>0</th>\n",
       "      <td>historical</td>\n",
       "      <td>NaN</td>\n",
       "      <td>112.478146</td>\n",
       "      <td>0.000000</td>\n",
       "    </tr>\n",
       "    <tr>\n",
       "      <th>1</th>\n",
       "      <td>actual</td>\n",
       "      <td>0.935331</td>\n",
       "      <td>139.944748</td>\n",
       "      <td>98.350871</td>\n",
       "    </tr>\n",
       "    <tr>\n",
       "      <th>2</th>\n",
       "      <td>accurate</td>\n",
       "      <td>0.384451</td>\n",
       "      <td>118.978203</td>\n",
       "      <td>120.050190</td>\n",
       "    </tr>\n",
       "  </tbody>\n",
       "</table>\n",
       "</div>"
      ],
      "text/plain": [
       "         type         x  accuracy error  booking error\n",
       "0  historical       NaN      112.478146       0.000000\n",
       "1      actual  0.935331      139.944748      98.350871\n",
       "2    accurate  0.384451      118.978203     120.050190"
      ]
     },
     "execution_count": 47,
     "metadata": {},
     "output_type": "execute_result"
    }
   ],
   "source": [
    "# optimize to get company and most accurate values\n",
    "x_actual = minimize(gen_cc, [0.0], args=(tris, \"Actual\")).x[0]\n",
    "x_accurate = minimize(gen_cc, [0.0], args=(tris, \"Accurate\")).x[0]\n",
    "\n",
    "f = (tris.dev_lag == 0) & (tris.year >= 1996)\n",
    "hist_error = np.sum(np.sqrt(tris.earned_premium[f]) * (tris.ult_true[f] - tris.init_lr[f]) ** 2)\n",
    "\n",
    "pd.DataFrame({\n",
    "    \"type\": [\"historical\", \"actual\", \"accurate\"],\n",
    "    \"x\": logit([np.nan, x_actual, x_accurate]),\n",
    "    \"accuracy error\": [\n",
    "        hist_error/1e3, \n",
    "        gen_cc([x_actual], tris, \"Accurate\")/1e3, \n",
    "        gen_cc([x_accurate], tris, \"Accurate\")/1e3, \n",
    "    ],\n",
    "    \"booking error\": [\n",
    "        0, \n",
    "        gen_cc([x_actual], tris, \"Actual\")/1e3, \n",
    "        gen_cc([x_accurate], tris, \"Actual\")/1e3, \n",
    "    ],\n",
    "})"
   ]
  },
  {
   "cell_type": "code",
   "execution_count": 48,
   "id": "primary-cooler",
   "metadata": {},
   "outputs": [
    {
     "data": {
      "text/plain": [
       "(112.47814557152483, 139.40300503460944, 125.03204467892148)"
      ]
     },
     "execution_count": 48,
     "metadata": {},
     "output_type": "execute_result"
    }
   ],
   "source": [
    "# Out of sample errors using 5-fold cross validation\n",
    "\n",
    "num_years_fit = 10\n",
    "\n",
    "error_actual = 0\n",
    "error_accurate = 0\n",
    "\n",
    "for test_year in range(1996, 2011):\n",
    "    t = tris.copy()[(tris.year < test_year) & (tris.year >= test_year - num_years_fit)]\n",
    "    fit_actual_temp = minimize(gen_cc, [0.0], args=(t, \"Actual\"))\n",
    "    fit_accurate_temp = minimize(gen_cc, [0.0], args=(t, \"Accurate\"))\n",
    "    \n",
    "    t = tris.copy()[(tris.year <= test_year) & (tris.year >= test_year - num_years_fit)]\n",
    "    error_actual += gen_cc(fit_actual_temp.x, t, \"Accurate\", start_year=test_year, end_year=test_year)\n",
    "    error_accurate += gen_cc(fit_accurate_temp.x, t, \"Accurate\", start_year=test_year, end_year=test_year)\n",
    "\n",
    "f = (tris.dev_lag == 0) & (tris.year >= 1996)\n",
    "error_hist = np.sum(np.sqrt(tris.earned_premium[f]) * (tris.ult_true[f] - tris.init_lr[f]) ** 2)\n",
    "\n",
    "(\n",
    "    error_hist/1e3,\n",
    "    error_actual/1e3,\n",
    "    error_accurate/1e3,\n",
    ")"
   ]
  },
  {
   "cell_type": "code",
   "execution_count": 49,
   "id": "presidential-martin",
   "metadata": {},
   "outputs": [
    {
     "data": {
      "text/plain": [
       "(112.47814557152483, 123.88509326326532, 111.17986435128813)"
      ]
     },
     "execution_count": 49,
     "metadata": {},
     "output_type": "execute_result"
    }
   ],
   "source": [
    "# Out of sample errors - taking into account size groups\n",
    "\n",
    "num_years_fit = 10\n",
    "\n",
    "error_actual = 0\n",
    "error_accurate = 0\n",
    "\n",
    "for test_year in range(1996, 2011):\n",
    "    t = tris[(tris.year < test_year) & (tris.year >= test_year - num_years_fit)]\n",
    "    x_actual_temp = [minimize(gen_cc, [0.0], args=(t[t.size_group == s].copy(), \"Actual\")).x for s in range(num_size_groups)]\n",
    "    x_accurate_temp = [minimize(gen_cc, [0.0], args=(t[t.size_group == s].copy(), \"Accurate\")).x for s in range(num_size_groups)]\n",
    "    \n",
    "    t = tris[(tris.year <= test_year) & (tris.year >= test_year - num_years_fit)]\n",
    "    error_actual += np.sum([gen_cc(x_actual_temp[s], t[t.size_group == s].copy(), \"Accurate\", start_year=test_year, end_year=test_year) for s in range(num_size_groups)])\n",
    "    error_accurate += np.sum([gen_cc(x_accurate_temp[s], t[t.size_group == s].copy(), \"Accurate\", start_year=test_year, end_year=test_year) for s in range(num_size_groups)])\n",
    "\n",
    "f = (tris.dev_lag == 0) & (tris.year >= 1996)\n",
    "error_hist = np.sum(np.sqrt(tris.earned_premium[f]) * (tris.ult_true[f] - tris.init_lr[f]) ** 2)\n",
    "\n",
    "(\n",
    "    error_hist/1e3,\n",
    "    error_actual/1e3,\n",
    "    error_accurate/1e3,\n",
    ")"
   ]
  },
  {
   "cell_type": "code",
   "execution_count": 50,
   "id": "arranged-affect",
   "metadata": {},
   "outputs": [
    {
     "data": {
      "text/html": [
       "<div>\n",
       "<style scoped>\n",
       "    .dataframe tbody tr th:only-of-type {\n",
       "        vertical-align: middle;\n",
       "    }\n",
       "\n",
       "    .dataframe tbody tr th {\n",
       "        vertical-align: top;\n",
       "    }\n",
       "\n",
       "    .dataframe thead th {\n",
       "        text-align: right;\n",
       "    }\n",
       "</style>\n",
       "<table border=\"1\" class=\"dataframe\">\n",
       "  <thead>\n",
       "    <tr style=\"text-align: right;\">\n",
       "      <th></th>\n",
       "      <th>Size Group</th>\n",
       "      <th>Actual</th>\n",
       "      <th>Accurate</th>\n",
       "    </tr>\n",
       "  </thead>\n",
       "  <tbody>\n",
       "    <tr>\n",
       "      <th>0</th>\n",
       "      <td>0</td>\n",
       "      <td>0.640016</td>\n",
       "      <td>8.024193e-01</td>\n",
       "    </tr>\n",
       "    <tr>\n",
       "      <th>1</th>\n",
       "      <td>1</td>\n",
       "      <td>1.000000</td>\n",
       "      <td>5.303813e-01</td>\n",
       "    </tr>\n",
       "    <tr>\n",
       "      <th>2</th>\n",
       "      <td>2</td>\n",
       "      <td>0.804028</td>\n",
       "      <td>1.807370e-27</td>\n",
       "    </tr>\n",
       "  </tbody>\n",
       "</table>\n",
       "</div>"
      ],
      "text/plain": [
       "   Size Group    Actual      Accurate\n",
       "0           0  0.640016  8.024193e-01\n",
       "1           1  1.000000  5.303813e-01\n",
       "2           2  0.804028  1.807370e-27"
      ]
     },
     "execution_count": 50,
     "metadata": {},
     "output_type": "execute_result"
    }
   ],
   "source": [
    "x_actual_size = [minimize(gen_cc, [0.0], args=(tris[tris.size_group == s].copy(), \"Actual\")).x[0] for s in range(num_size_groups)]\n",
    "x_accurate_size = [minimize(gen_cc, [0.0], args=(tris[tris.size_group == s].copy(), \"Accurate\")).x[0] for s in range(num_size_groups)]\n",
    "\n",
    "pd.DataFrame({\n",
    "    \"Size Group\": range(num_size_groups), \n",
    "    \"Actual\": logit(x_actual_size), \n",
    "    \"Accurate\": logit(x_accurate_size),\n",
    "})"
   ]
  },
  {
   "cell_type": "code",
   "execution_count": 51,
   "id": "technological-thriller",
   "metadata": {},
   "outputs": [],
   "source": [
    "x_actual_account = [minimize(gen_cc, [0.0], args=(tris[tris.tag == t].copy(), \"Actual\")).x[0] for t in tags]\n",
    "x_accurate_account = [x_accurate_size[s] for s in lob_prem.size_group]"
   ]
  },
  {
   "cell_type": "code",
   "execution_count": null,
   "id": "transparent-promotion",
   "metadata": {},
   "outputs": [],
   "source": []
  },
  {
   "cell_type": "code",
   "execution_count": 52,
   "id": "increasing-module",
   "metadata": {},
   "outputs": [],
   "source": [
    "# output table to combine LOBs for regression\n",
    "d = pd.concat((lob_prem, pd.DataFrame({\"x_actual_account\": logit(x_actual_account)}), pd.DataFrame({\"x_accurate_account\": logit(x_accurate_account)})), axis=1)\n",
    "d = pd.merge(d, pd.DataFrame({\"size_group\": [0,1,2], \"x_accurate_size\": logit(x_accurate_size)}), how=\"left\", on=[\"size_group\"])\n",
    "d.to_csv(f\"{lob}_reg.csv\")"
   ]
  },
  {
   "cell_type": "code",
   "execution_count": 53,
   "id": "lovely-basics",
   "metadata": {},
   "outputs": [],
   "source": [
    "# read in CSV files from each LOB\n",
    "reg_combined = None\n",
    "for l in [\"WC\", \"OO\", \"CA\", \"OC\"]:\n",
    "    temp = pd.read_csv(f\"{l}_reg.csv\")\n",
    "    reg_combined = pd.concat((reg_combined, temp))\n"
   ]
  },
  {
   "cell_type": "code",
   "execution_count": 54,
   "id": "dutch-president",
   "metadata": {},
   "outputs": [],
   "source": [
    "reg_combined[\"mutual\"] = reg_combined.tag.apply(lambda x: 1 if x in mutuals_all else 0)"
   ]
  },
  {
   "cell_type": "code",
   "execution_count": 55,
   "id": "behavioral-soviet",
   "metadata": {},
   "outputs": [
    {
     "name": "stdout",
     "output_type": "stream",
     "text": [
      "                            OLS Regression Results                            \n",
      "==============================================================================\n",
      "Dep. Variable:               r_actual   R-squared:                       0.086\n",
      "Model:                            OLS   Adj. R-squared:                  0.066\n",
      "Method:                 Least Squares   F-statistic:                     4.385\n",
      "Date:                Tue, 03 May 2022   Prob (F-statistic):           0.000778\n",
      "Time:                        13:13:33   Log-Likelihood:                -439.60\n",
      "No. Observations:                 240   AIC:                             891.2\n",
      "Df Residuals:                     234   BIC:                             912.1\n",
      "Df Model:                           5                                         \n",
      "Covariance Type:            nonrobust                                         \n",
      "==============================================================================\n",
      "                 coef    std err          t      P>|t|      [0.025      0.975]\n",
      "------------------------------------------------------------------------------\n",
      "const          4.0518      1.888      2.146      0.033       0.333       7.771\n",
      "x1            -0.3176      0.368     -0.862      0.389      -1.043       0.408\n",
      "x2            -0.8188      0.277     -2.953      0.003      -1.365      -0.272\n",
      "x3             0.0024      0.266      0.009      0.993      -0.521       0.526\n",
      "x4            -0.1450      0.102     -1.426      0.155      -0.345       0.055\n",
      "x5             0.7974      0.344      2.315      0.021       0.119       1.476\n",
      "==============================================================================\n",
      "Omnibus:                       24.201   Durbin-Watson:                   2.234\n",
      "Prob(Omnibus):                  0.000   Jarque-Bera (JB):               76.776\n",
      "Skew:                          -0.328   Prob(JB):                     2.13e-17\n",
      "Kurtosis:                       5.692   Cond. No.                         354.\n",
      "==============================================================================\n",
      "\n",
      "Notes:\n",
      "[1] Standard Errors assume that the covariance matrix of the errors is correctly specified.\n"
     ]
    }
   ],
   "source": [
    "# combined regression\n",
    "X = dmatrix(\"1 + lob + np.log(lob_prem) + pct_lob\", reg_combined)\n",
    "y = np.maximum(-3, np.log(reg_combined.r_actual))\n",
    "\n",
    "fit_r = sm.OLS(y, X).fit()\n",
    "print(fit_r.summary())"
   ]
  },
  {
   "cell_type": "code",
   "execution_count": 56,
   "id": "russian-knowing",
   "metadata": {},
   "outputs": [
    {
     "data": {
      "image/png": "[encoded data removed]",
      "text/plain": [
       "<Figure size 432x288 with 1 Axes>"
      ]
     },
     "metadata": {
      "needs_background": "light"
     },
     "output_type": "display_data"
    }
   ],
   "source": [
    "resid = (fit_r.predict(X) - y)\n",
    "plt.hist(resid)\n",
    "plt.show()"
   ]
  },
  {
   "cell_type": "code",
   "execution_count": 57,
   "id": "civic-vitamin",
   "metadata": {},
   "outputs": [
    {
     "name": "stdout",
     "output_type": "stream",
     "text": [
      "                            OLS Regression Results                            \n",
      "==============================================================================\n",
      "Dep. Variable:               r_actual   R-squared:                       0.142\n",
      "Model:                            OLS   Adj. R-squared:                  0.119\n",
      "Method:                 Least Squares   F-statistic:                     6.097\n",
      "Date:                Tue, 03 May 2022   Prob (F-statistic):           6.28e-06\n",
      "Time:                        13:13:33   Log-Likelihood:                -359.00\n",
      "No. Observations:                 228   AIC:                             732.0\n",
      "Df Residuals:                     221   BIC:                             756.0\n",
      "Df Model:                           6                                         \n",
      "Covariance Type:            nonrobust                                         \n",
      "==============================================================================\n",
      "                 coef    std err          t      P>|t|      [0.025      0.975]\n",
      "------------------------------------------------------------------------------\n",
      "const          4.6104      1.483      3.109      0.002       1.688       7.533\n",
      "x1            -0.1912      0.291     -0.658      0.511      -0.764       0.381\n",
      "x2            -0.6382      0.220     -2.906      0.004      -1.071      -0.205\n",
      "x3             0.2539      0.214      1.185      0.237      -0.168       0.676\n",
      "x4            -0.1716      0.080     -2.154      0.032      -0.329      -0.015\n",
      "x5             0.6108      0.272      2.247      0.026       0.075       1.146\n",
      "x6             0.2071      0.192      1.078      0.282      -0.172       0.586\n",
      "==============================================================================\n",
      "Omnibus:                       62.848   Durbin-Watson:                   1.942\n",
      "Prob(Omnibus):                  0.000   Jarque-Bera (JB):              141.140\n",
      "Skew:                           1.292   Prob(JB):                     2.25e-31\n",
      "Kurtosis:                       5.860   Cond. No.                         350.\n",
      "==============================================================================\n",
      "\n",
      "Notes:\n",
      "[1] Standard Errors assume that the covariance matrix of the errors is correctly specified.\n"
     ]
    }
   ],
   "source": [
    "# with mutual flag\n",
    "f = np.log(reg_combined.r_actual) > -3\n",
    "X = dmatrix(\"1 + lob + np.log(lob_prem) + pct_lob + mutual\", reg_combined[f])\n",
    "y = np.maximum(-3, np.log(reg_combined.r_actual[f]))\n",
    "\n",
    "fit_r_mutual = sm.OLS(y, X).fit()\n",
    "print(fit_r_mutual.summary())"
   ]
  },
  {
   "cell_type": "code",
   "execution_count": 58,
   "id": "governing-assignment",
   "metadata": {},
   "outputs": [
    {
     "data": {
      "image/png": "[encoded data removed]",
      "text/plain": [
       "<Figure size 432x288 with 1 Axes>"
      ]
     },
     "metadata": {
      "needs_background": "light"
     },
     "output_type": "display_data"
    }
   ],
   "source": [
    "plt.scatter(np.log(reg_combined.lob_prem[reg_combined.mutual == False]), np.maximum(-3, np.log(reg_combined.r_actual[reg_combined.mutual == False])), label=\"Non-Mutuals\")\n",
    "plt.scatter(np.log(reg_combined.lob_prem[reg_combined.mutual == True]), np.maximum(-3, np.log(reg_combined.r_actual[reg_combined.mutual == True])), label=\"Mutuals\")\n",
    "plt.legend()\n",
    "plt.xlabel(\"Log Premium\")\n",
    "plt.ylabel(\"Log R Value\")\n",
    "plt.show()"
   ]
  },
  {
   "cell_type": "code",
   "execution_count": 59,
   "id": "incorporated-latvia",
   "metadata": {},
   "outputs": [
    {
     "data": {
      "image/png": "[encoded data removed]",
      "text/plain": [
       "<Figure size 432x288 with 1 Axes>"
      ]
     },
     "metadata": {
      "needs_background": "light"
     },
     "output_type": "display_data"
    }
   ],
   "source": [
    "plt.scatter(reg_combined.pct_lob[reg_combined.mutual == False], np.maximum(-3, np.log(reg_combined.r_actual[reg_combined.mutual == False])), label=\"Non-Mutuals\")\n",
    "plt.scatter(reg_combined.pct_lob[reg_combined.mutual == True], np.maximum(-3, np.log(reg_combined.r_actual[reg_combined.mutual == True])), label=\"Mutuals\")\n",
    "plt.legend()\n",
    "plt.xlabel(\"LOB Percentage\")\n",
    "plt.ylabel(\"Log R Value\")\n",
    "plt.show()"
   ]
  },
  {
   "cell_type": "markdown",
   "id": "informed-conclusion",
   "metadata": {},
   "source": [
    "### Evaluate changes, etc."
   ]
  },
  {
   "cell_type": "code",
   "execution_count": 60,
   "id": "sound-reset",
   "metadata": {},
   "outputs": [],
   "source": [
    "tris_lob_df[\"incurred_lr_change_age\"] = tris_lob_df.incurred_lr - tris_lob_df.groupby([\"tag\", \"year\"])[\"incurred_lr\"].shift(1)\n",
    "tris_lob_df[\"incurred_lr_change_age\"] = tris_lob_df[\"incurred_lr_change_age\"].fillna(0)\n",
    "\n",
    "tris_lob_df[\"earned_premium_change\"] = tris_lob_df.earned_premium - tris_lob_df.groupby([\"tag\", \"year\"])[\"earned_premium\"].shift(1)\n",
    "tris_lob_df[\"earned_premium_change\"] = tris_lob_df[\"earned_premium_change\"].fillna(0)\n",
    "\n",
    "z = tris_lob_df.atu ** - np.exp(fit_actual.x[0])\n",
    "z = np.array([0 if d == 0 else zi for zi, d in zip(z, tris_lob_df.dev_lag)])\n",
    "tris_lob_df[\"ult_ind_actual\"] = z * tris_lob_df.ult_cl + (1 - z) * tris_lob_df.init_lr\n",
    "\n",
    "z = tris_lob_df.atu ** - np.exp(fit_accurate.x[0])\n",
    "z = np.array([0 if d == 0 else zi for zi, d in zip(z, tris_lob_df.dev_lag)])\n",
    "tris_lob_df[\"ult_ind_accurate\"] = z * tris_lob_df.ult_cl + (1 - z) * tris_lob_df.init_lr\n",
    "\n",
    "tris_lob_df[\"ult_ind_actual_change\"] = tris_lob_df.ult_ind_actual - tris_lob_df.groupby([\"tag\", \"year\"])[\"ult_ind_actual\"].shift(1)\n",
    "tris_lob_df[\"ult_ind_actual_change\"] = tris_lob_df[\"ult_ind_actual_change\"].fillna(0)\n",
    "\n",
    "tris_lob_df[\"ult_ind_accurate_change\"] = tris_lob_df.ult_ind_accurate - tris_lob_df.groupby([\"tag\", \"year\"])[\"ult_ind_accurate\"].shift(1)\n",
    "tris_lob_df[\"ult_ind_accurate_change\"] = tris_lob_df[\"ult_ind_accurate_change\"].fillna(0)\n",
    "\n",
    "tris_lob_df[\"incurred_lr_change_true\"] = tris_lob_df.ult_true - tris_lob_df.incurred_lr\n",
    "tris_lob_df[\"ult_ind_actual_change_true\"] = tris_lob_df.ult_true - tris_lob_df.ult_ind_actual\n",
    "tris_lob_df[\"ult_ind_accurate_change_true\"] = tris_lob_df.ult_true - tris_lob_df.ult_ind_accurate\n",
    "\n",
    "tris_lob_df[\"incurred_lr_change_amt\"] = tris_lob_df.incurred_lr_change_age * tris_lob_df.earned_premium\n",
    "tris_lob_df[\"ult_ind_actual_change_amt\"] = tris_lob_df.ult_ind_actual_change * tris_lob_df.earned_premium\n",
    "tris_lob_df[\"ult_ind_accurate_change_amt\"] = tris_lob_df.ult_ind_accurate_change * tris_lob_df.earned_premium\n",
    "\n",
    "tris_lob_df[\"incurred_lr_change_true_amt\"] = tris_lob_df.incurred_lr_change_true * tris_lob_df.earned_premium\n",
    "tris_lob_df[\"ult_ind_actual_change_true_amt\"] = tris_lob_df.ult_ind_actual_change_true * tris_lob_df.earned_premium\n",
    "tris_lob_df[\"ult_ind_accurate_change_true_amt\"] = tris_lob_df.ult_ind_accurate_change_true * tris_lob_df.earned_premium\n",
    "\n",
    "tris_lob_df[\"incurred_lr_change_amt_sq\"] = tris_lob_df[\"incurred_lr_change_amt\"] ** 2\n",
    "tris_lob_df[\"ult_ind_actual_change_amt_sq\"] = tris_lob_df[\"ult_ind_actual_change_amt\"] ** 2\n",
    "tris_lob_df[\"ult_ind_accurate_change_amt_sq\"] = tris_lob_df[\"ult_ind_accurate_change_amt\"] ** 2\n",
    "\n",
    "tris_lob_df[\"incurred_lr_change_amt_abs\"] = abs(tris_lob_df[\"incurred_lr_change_amt\"])\n",
    "tris_lob_df[\"ult_ind_actual_change_amt_abs\"] = abs(tris_lob_df[\"ult_ind_actual_change_amt\"])\n",
    "tris_lob_df[\"ult_ind_accurate_change_amt_abs\"] = abs(tris_lob_df[\"ult_ind_accurate_change_amt\"])\n"
   ]
  },
  {
   "cell_type": "code",
   "execution_count": 61,
   "id": "statistical-pocket",
   "metadata": {},
   "outputs": [
    {
     "name": "stdout",
     "output_type": "stream",
     "text": [
      "(362.2820568176128, 138.30758509260843, 254.7639856100502)\n",
      "(0.42203010347048475, -0.4571148478407526)\n"
     ]
    }
   ],
   "source": [
    "# stdev of wrong dir changes reduction\n",
    "\n",
    "thr = 0.0\n",
    "\n",
    "incurred_lr_change_wrong_dir = [c ** 2 if (np.sign(c) != np.sign(t)) and (abs(p) > thr) else 0 for p, c, t in zip(tris_lob_df.incurred_lr_change_age, tris_lob_df.incurred_lr_change_amt, tris_lob_df.incurred_lr_change_true_amt)]\n",
    "ult_true_actual_change_wrong_dir = [c ** 2 if np.sign(c) != np.sign(t) and (abs(p) > thr) else 0 for p, c, t in zip(tris_lob_df.ult_ind_actual_change, tris_lob_df.ult_ind_actual_change_amt, tris_lob_df.ult_ind_actual_change_true_amt)]\n",
    "ult_true_accurate_change_wrong_dir = [c ** 2 if np.sign(c) != np.sign(t) and (abs(p) > thr) else 0 for p, c, t in zip(tris_lob_df.ult_ind_accurate_change, tris_lob_df.ult_ind_accurate_change_amt, tris_lob_df.ult_ind_accurate_change_true_amt)]\n",
    "\n",
    "print((\n",
    "    np.sqrt(np.sum(incurred_lr_change_wrong_dir))/1e6,\n",
    "    np.sqrt(np.sum(ult_true_actual_change_wrong_dir))/1e6,\n",
    "    np.sqrt(np.sum(ult_true_accurate_change_wrong_dir))/1e6,\n",
    "))\n",
    "\n",
    "print((\n",
    "    np.sqrt(np.sum(incurred_lr_change_wrong_dir)) / np.sqrt(np.sum(ult_true_accurate_change_wrong_dir)) - 1,\n",
    "    np.sqrt(np.sum(ult_true_actual_change_wrong_dir)) / np.sqrt(np.sum(ult_true_accurate_change_wrong_dir)) - 1\n",
    "))\n"
   ]
  },
  {
   "cell_type": "code",
   "execution_count": null,
   "id": "responsible-antibody",
   "metadata": {},
   "outputs": [],
   "source": []
  },
  {
   "cell_type": "code",
   "execution_count": 62,
   "id": "ignored-cooper",
   "metadata": {},
   "outputs": [],
   "source": [
    "# CY level\n",
    "cy_tris_lob_df = tris_lob_df[(tris_lob_df.dev_lag > 0) & (tris_lob_df.eval_year > 1995) & (tris_lob_df.eval_year <=2010)].groupby([\"tag\", \"eval_year\"])[[\"incurred_lr_change_amt\", \"ult_ind_actual_change_amt\", \"ult_ind_accurate_change_amt\", \"earned_premium_change\"]].sum().reset_index()\n",
    "\n",
    "ay = tris_lob_df[tris_lob_df.dev_lag == 0][[\"tag\", \"year\", \"earned_premium\", \"incurred_lr\"]].rename(columns={\"year\": \"eval_year\", \"earned_premium\": \"ay_earned_premium\", \"incurred_lr\": \"ay_incurred_lr\"})\n",
    "cy_tris_lob_df = pd.merge(cy_tris_lob_df, ay, how=\"left\", on=[\"tag\", \"eval_year\"])\n",
    "\n",
    "cy_tris_lob_df[\"cy_earned_premium\"] = cy_tris_lob_df.ay_earned_premium + cy_tris_lob_df.earned_premium_change\n",
    "cy_tris_lob_df[\"cy_incurred_lr\"] = (cy_tris_lob_df.ay_incurred_lr * cy_tris_lob_df.ay_earned_premium + cy_tris_lob_df.incurred_lr_change_amt) / cy_tris_lob_df.cy_earned_premium\n",
    "\n",
    "cy_tris_lob_df[\"incurred_lr_change_age\"] = cy_tris_lob_df[\"incurred_lr_change_amt\"] / cy_tris_lob_df.cy_earned_premium\n",
    "cy_tris_lob_df[\"ult_ind_actual_change\"] = cy_tris_lob_df[\"ult_ind_actual_change_amt\"] / cy_tris_lob_df.cy_earned_premium\n",
    "cy_tris_lob_df[\"ult_ind_accurate_change\"] = cy_tris_lob_df[\"ult_ind_accurate_change_amt\"] / cy_tris_lob_df.cy_earned_premium\n",
    "\n"
   ]
  },
  {
   "cell_type": "code",
   "execution_count": 63,
   "id": "breeding-beauty",
   "metadata": {},
   "outputs": [
    {
     "data": {
      "image/png": "[encoded data removed]",
      "text/plain": [
       "<Figure size 432x288 with 1 Axes>"
      ]
     },
     "metadata": {
      "needs_background": "light"
     },
     "output_type": "display_data"
    },
    {
     "name": "stdout",
     "output_type": "stream",
     "text": [
      "0.09474611242722646\n",
      "-0.1154390700950813\n",
      "1.218404292669516\n",
      "\n",
      "70\n",
      "149\n",
      "0.319634703196347\n"
     ]
    }
   ],
   "source": [
    "plt.hist(cy_tris_lob_df.incurred_lr_change_age)\n",
    "plt.axvline(0, color=\"black\")\n",
    "plt.show()\n",
    "\n",
    "mean_adv = np.mean(cy_tris_lob_df.incurred_lr_change_age[cy_tris_lob_df.incurred_lr_change_age > 0])\n",
    "mean_fav = np.mean(cy_tris_lob_df.incurred_lr_change_age[cy_tris_lob_df.incurred_lr_change_age < 0])\n",
    "print(mean_adv)\n",
    "print(mean_fav)\n",
    "print(abs(mean_fav) / mean_adv)\n",
    "print(\"\")\n",
    "\n",
    "num_adv = np.sum(cy_tris_lob_df.incurred_lr_change_age > 0)\n",
    "num_fav = np.sum(cy_tris_lob_df.incurred_lr_change_age < 0)\n",
    "print(num_adv)\n",
    "print(num_fav)\n",
    "print(num_adv / (num_adv + num_fav))\n"
   ]
  },
  {
   "cell_type": "code",
   "execution_count": null,
   "id": "included-niger",
   "metadata": {},
   "outputs": [],
   "source": []
  },
  {
   "cell_type": "code",
   "execution_count": null,
   "id": "korean-meeting",
   "metadata": {},
   "outputs": [],
   "source": []
  },
  {
   "cell_type": "code",
   "execution_count": null,
   "id": "hydraulic-washington",
   "metadata": {},
   "outputs": [],
   "source": []
  }
 ],
 "metadata": {
  "kernelspec": {
   "display_name": "Python 3",
   "language": "python",
   "name": "python3"
  },
  "language_info": {
   "codemirror_mode": {
    "name": "ipython",
    "version": 3
   },
   "file_extension": ".py",
   "mimetype": "text/x-python",
   "name": "python",
   "nbconvert_exporter": "python",
   "pygments_lexer": "ipython3",
   "version": "3.9.2"
  }
 },
 "nbformat": 4,
 "nbformat_minor": 5
}
